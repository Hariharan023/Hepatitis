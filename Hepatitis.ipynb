{
 "cells": [
  {
   "cell_type": "markdown",
   "metadata": {},
   "source": [
    "# HEPATITIS"
   ]
  },
  {
   "cell_type": "markdown",
   "metadata": {},
   "source": [
    "Hepatitis is a term used to describe inflammatory condition in liver. It's commomnly caused by viral infection, but there are other possible causes of hepatitis. These include autoimmune hepatitis and hepatitis that occurs as a secondary result of medications, drugs, toxins, and alcohol. Acute hepatitis occurs when it lasts for less than six months and chronic if it persists for longer duration."
   ]
  },
  {
   "cell_type": "markdown",
   "metadata": {},
   "source": [
    "# IMPORTING LIBRARIES:"
   ]
  },
  {
   "cell_type": "code",
   "execution_count": 136,
   "metadata": {},
   "outputs": [],
   "source": [
    "import os \n",
    "import pandas as pd\n",
    "import numpy as np\n",
    "import seaborn as sns\n",
    "import matplotlib.pyplot as plt"
   ]
  },
  {
   "cell_type": "code",
   "execution_count": 2,
   "metadata": {},
   "outputs": [],
   "source": [
    "df = pd.read_csv(\"C:\\\\Users\\\\91979\\\\Desktop\\\\hepatitis_csv.csv\")"
   ]
  },
  {
   "cell_type": "code",
   "execution_count": 3,
   "metadata": {
    "scrolled": true
   },
   "outputs": [
    {
     "data": {
      "text/html": [
       "<div>\n",
       "<style scoped>\n",
       "    .dataframe tbody tr th:only-of-type {\n",
       "        vertical-align: middle;\n",
       "    }\n",
       "\n",
       "    .dataframe tbody tr th {\n",
       "        vertical-align: top;\n",
       "    }\n",
       "\n",
       "    .dataframe thead th {\n",
       "        text-align: right;\n",
       "    }\n",
       "</style>\n",
       "<table border=\"1\" class=\"dataframe\">\n",
       "  <thead>\n",
       "    <tr style=\"text-align: right;\">\n",
       "      <th></th>\n",
       "      <th>age</th>\n",
       "      <th>sex</th>\n",
       "      <th>steroid</th>\n",
       "      <th>antivirals</th>\n",
       "      <th>fatigue</th>\n",
       "      <th>malaise</th>\n",
       "      <th>anorexia</th>\n",
       "      <th>liver_big</th>\n",
       "      <th>liver_firm</th>\n",
       "      <th>spleen_palpable</th>\n",
       "      <th>spiders</th>\n",
       "      <th>ascites</th>\n",
       "      <th>varices</th>\n",
       "      <th>bilirubin</th>\n",
       "      <th>alk_phosphate</th>\n",
       "      <th>sgot</th>\n",
       "      <th>albumin</th>\n",
       "      <th>protime</th>\n",
       "      <th>histology</th>\n",
       "      <th>class</th>\n",
       "    </tr>\n",
       "  </thead>\n",
       "  <tbody>\n",
       "    <tr>\n",
       "      <th>0</th>\n",
       "      <td>30</td>\n",
       "      <td>male</td>\n",
       "      <td>False</td>\n",
       "      <td>False</td>\n",
       "      <td>False</td>\n",
       "      <td>False</td>\n",
       "      <td>False</td>\n",
       "      <td>False</td>\n",
       "      <td>False</td>\n",
       "      <td>False</td>\n",
       "      <td>False</td>\n",
       "      <td>False</td>\n",
       "      <td>False</td>\n",
       "      <td>1.0</td>\n",
       "      <td>85.0</td>\n",
       "      <td>18.0</td>\n",
       "      <td>4.0</td>\n",
       "      <td>NaN</td>\n",
       "      <td>False</td>\n",
       "      <td>live</td>\n",
       "    </tr>\n",
       "    <tr>\n",
       "      <th>1</th>\n",
       "      <td>50</td>\n",
       "      <td>female</td>\n",
       "      <td>False</td>\n",
       "      <td>False</td>\n",
       "      <td>True</td>\n",
       "      <td>False</td>\n",
       "      <td>False</td>\n",
       "      <td>False</td>\n",
       "      <td>False</td>\n",
       "      <td>False</td>\n",
       "      <td>False</td>\n",
       "      <td>False</td>\n",
       "      <td>False</td>\n",
       "      <td>0.9</td>\n",
       "      <td>135.0</td>\n",
       "      <td>42.0</td>\n",
       "      <td>3.5</td>\n",
       "      <td>NaN</td>\n",
       "      <td>False</td>\n",
       "      <td>live</td>\n",
       "    </tr>\n",
       "    <tr>\n",
       "      <th>2</th>\n",
       "      <td>78</td>\n",
       "      <td>female</td>\n",
       "      <td>True</td>\n",
       "      <td>False</td>\n",
       "      <td>True</td>\n",
       "      <td>False</td>\n",
       "      <td>False</td>\n",
       "      <td>True</td>\n",
       "      <td>False</td>\n",
       "      <td>False</td>\n",
       "      <td>False</td>\n",
       "      <td>False</td>\n",
       "      <td>False</td>\n",
       "      <td>0.7</td>\n",
       "      <td>96.0</td>\n",
       "      <td>32.0</td>\n",
       "      <td>4.0</td>\n",
       "      <td>NaN</td>\n",
       "      <td>False</td>\n",
       "      <td>live</td>\n",
       "    </tr>\n",
       "    <tr>\n",
       "      <th>3</th>\n",
       "      <td>31</td>\n",
       "      <td>female</td>\n",
       "      <td>NaN</td>\n",
       "      <td>True</td>\n",
       "      <td>False</td>\n",
       "      <td>False</td>\n",
       "      <td>False</td>\n",
       "      <td>True</td>\n",
       "      <td>False</td>\n",
       "      <td>False</td>\n",
       "      <td>False</td>\n",
       "      <td>False</td>\n",
       "      <td>False</td>\n",
       "      <td>0.7</td>\n",
       "      <td>46.0</td>\n",
       "      <td>52.0</td>\n",
       "      <td>4.0</td>\n",
       "      <td>80.0</td>\n",
       "      <td>False</td>\n",
       "      <td>live</td>\n",
       "    </tr>\n",
       "    <tr>\n",
       "      <th>4</th>\n",
       "      <td>34</td>\n",
       "      <td>female</td>\n",
       "      <td>True</td>\n",
       "      <td>False</td>\n",
       "      <td>False</td>\n",
       "      <td>False</td>\n",
       "      <td>False</td>\n",
       "      <td>True</td>\n",
       "      <td>False</td>\n",
       "      <td>False</td>\n",
       "      <td>False</td>\n",
       "      <td>False</td>\n",
       "      <td>False</td>\n",
       "      <td>1.0</td>\n",
       "      <td>NaN</td>\n",
       "      <td>200.0</td>\n",
       "      <td>4.0</td>\n",
       "      <td>NaN</td>\n",
       "      <td>False</td>\n",
       "      <td>live</td>\n",
       "    </tr>\n",
       "    <tr>\n",
       "      <th>...</th>\n",
       "      <td>...</td>\n",
       "      <td>...</td>\n",
       "      <td>...</td>\n",
       "      <td>...</td>\n",
       "      <td>...</td>\n",
       "      <td>...</td>\n",
       "      <td>...</td>\n",
       "      <td>...</td>\n",
       "      <td>...</td>\n",
       "      <td>...</td>\n",
       "      <td>...</td>\n",
       "      <td>...</td>\n",
       "      <td>...</td>\n",
       "      <td>...</td>\n",
       "      <td>...</td>\n",
       "      <td>...</td>\n",
       "      <td>...</td>\n",
       "      <td>...</td>\n",
       "      <td>...</td>\n",
       "      <td>...</td>\n",
       "    </tr>\n",
       "    <tr>\n",
       "      <th>150</th>\n",
       "      <td>46</td>\n",
       "      <td>female</td>\n",
       "      <td>True</td>\n",
       "      <td>False</td>\n",
       "      <td>True</td>\n",
       "      <td>True</td>\n",
       "      <td>True</td>\n",
       "      <td>True</td>\n",
       "      <td>False</td>\n",
       "      <td>False</td>\n",
       "      <td>True</td>\n",
       "      <td>True</td>\n",
       "      <td>True</td>\n",
       "      <td>7.6</td>\n",
       "      <td>NaN</td>\n",
       "      <td>242.0</td>\n",
       "      <td>3.3</td>\n",
       "      <td>50.0</td>\n",
       "      <td>True</td>\n",
       "      <td>die</td>\n",
       "    </tr>\n",
       "    <tr>\n",
       "      <th>151</th>\n",
       "      <td>44</td>\n",
       "      <td>female</td>\n",
       "      <td>True</td>\n",
       "      <td>False</td>\n",
       "      <td>True</td>\n",
       "      <td>False</td>\n",
       "      <td>False</td>\n",
       "      <td>True</td>\n",
       "      <td>True</td>\n",
       "      <td>False</td>\n",
       "      <td>False</td>\n",
       "      <td>False</td>\n",
       "      <td>False</td>\n",
       "      <td>0.9</td>\n",
       "      <td>126.0</td>\n",
       "      <td>142.0</td>\n",
       "      <td>4.3</td>\n",
       "      <td>NaN</td>\n",
       "      <td>True</td>\n",
       "      <td>live</td>\n",
       "    </tr>\n",
       "    <tr>\n",
       "      <th>152</th>\n",
       "      <td>61</td>\n",
       "      <td>female</td>\n",
       "      <td>False</td>\n",
       "      <td>False</td>\n",
       "      <td>True</td>\n",
       "      <td>True</td>\n",
       "      <td>False</td>\n",
       "      <td>False</td>\n",
       "      <td>True</td>\n",
       "      <td>False</td>\n",
       "      <td>True</td>\n",
       "      <td>False</td>\n",
       "      <td>False</td>\n",
       "      <td>0.8</td>\n",
       "      <td>75.0</td>\n",
       "      <td>20.0</td>\n",
       "      <td>4.1</td>\n",
       "      <td>NaN</td>\n",
       "      <td>True</td>\n",
       "      <td>live</td>\n",
       "    </tr>\n",
       "    <tr>\n",
       "      <th>153</th>\n",
       "      <td>53</td>\n",
       "      <td>male</td>\n",
       "      <td>False</td>\n",
       "      <td>False</td>\n",
       "      <td>True</td>\n",
       "      <td>False</td>\n",
       "      <td>False</td>\n",
       "      <td>True</td>\n",
       "      <td>False</td>\n",
       "      <td>True</td>\n",
       "      <td>True</td>\n",
       "      <td>False</td>\n",
       "      <td>True</td>\n",
       "      <td>1.5</td>\n",
       "      <td>81.0</td>\n",
       "      <td>19.0</td>\n",
       "      <td>4.1</td>\n",
       "      <td>48.0</td>\n",
       "      <td>True</td>\n",
       "      <td>live</td>\n",
       "    </tr>\n",
       "    <tr>\n",
       "      <th>154</th>\n",
       "      <td>43</td>\n",
       "      <td>female</td>\n",
       "      <td>True</td>\n",
       "      <td>False</td>\n",
       "      <td>True</td>\n",
       "      <td>False</td>\n",
       "      <td>False</td>\n",
       "      <td>True</td>\n",
       "      <td>False</td>\n",
       "      <td>True</td>\n",
       "      <td>True</td>\n",
       "      <td>True</td>\n",
       "      <td>False</td>\n",
       "      <td>1.2</td>\n",
       "      <td>100.0</td>\n",
       "      <td>19.0</td>\n",
       "      <td>3.1</td>\n",
       "      <td>42.0</td>\n",
       "      <td>True</td>\n",
       "      <td>die</td>\n",
       "    </tr>\n",
       "  </tbody>\n",
       "</table>\n",
       "<p>155 rows × 20 columns</p>\n",
       "</div>"
      ],
      "text/plain": [
       "     age     sex steroid  antivirals fatigue malaise anorexia liver_big  \\\n",
       "0     30    male   False       False   False   False    False     False   \n",
       "1     50  female   False       False    True   False    False     False   \n",
       "2     78  female    True       False    True   False    False      True   \n",
       "3     31  female     NaN        True   False   False    False      True   \n",
       "4     34  female    True       False   False   False    False      True   \n",
       "..   ...     ...     ...         ...     ...     ...      ...       ...   \n",
       "150   46  female    True       False    True    True     True      True   \n",
       "151   44  female    True       False    True   False    False      True   \n",
       "152   61  female   False       False    True    True    False     False   \n",
       "153   53    male   False       False    True   False    False      True   \n",
       "154   43  female    True       False    True   False    False      True   \n",
       "\n",
       "    liver_firm spleen_palpable spiders ascites varices  bilirubin  \\\n",
       "0        False           False   False   False   False        1.0   \n",
       "1        False           False   False   False   False        0.9   \n",
       "2        False           False   False   False   False        0.7   \n",
       "3        False           False   False   False   False        0.7   \n",
       "4        False           False   False   False   False        1.0   \n",
       "..         ...             ...     ...     ...     ...        ...   \n",
       "150      False           False    True    True    True        7.6   \n",
       "151       True           False   False   False   False        0.9   \n",
       "152       True           False    True   False   False        0.8   \n",
       "153      False            True    True   False    True        1.5   \n",
       "154      False            True    True    True   False        1.2   \n",
       "\n",
       "     alk_phosphate   sgot  albumin  protime  histology class  \n",
       "0             85.0   18.0      4.0      NaN      False  live  \n",
       "1            135.0   42.0      3.5      NaN      False  live  \n",
       "2             96.0   32.0      4.0      NaN      False  live  \n",
       "3             46.0   52.0      4.0     80.0      False  live  \n",
       "4              NaN  200.0      4.0      NaN      False  live  \n",
       "..             ...    ...      ...      ...        ...   ...  \n",
       "150            NaN  242.0      3.3     50.0       True   die  \n",
       "151          126.0  142.0      4.3      NaN       True  live  \n",
       "152           75.0   20.0      4.1      NaN       True  live  \n",
       "153           81.0   19.0      4.1     48.0       True  live  \n",
       "154          100.0   19.0      3.1     42.0       True   die  \n",
       "\n",
       "[155 rows x 20 columns]"
      ]
     },
     "execution_count": 3,
     "metadata": {},
     "output_type": "execute_result"
    }
   ],
   "source": [
    "df"
   ]
  },
  {
   "cell_type": "code",
   "execution_count": 4,
   "metadata": {},
   "outputs": [
    {
     "data": {
      "text/plain": [
       "(155, 20)"
      ]
     },
     "execution_count": 4,
     "metadata": {},
     "output_type": "execute_result"
    }
   ],
   "source": [
    "df.shape"
   ]
  },
  {
   "cell_type": "code",
   "execution_count": 5,
   "metadata": {},
   "outputs": [
    {
     "data": {
      "text/plain": [
       "Index(['age', 'sex', 'steroid', 'antivirals', 'fatigue', 'malaise', 'anorexia',\n",
       "       'liver_big', 'liver_firm', 'spleen_palpable', 'spiders', 'ascites',\n",
       "       'varices', 'bilirubin', 'alk_phosphate', 'sgot', 'albumin', 'protime',\n",
       "       'histology', 'class'],\n",
       "      dtype='object')"
      ]
     },
     "execution_count": 5,
     "metadata": {},
     "output_type": "execute_result"
    }
   ],
   "source": [
    "df.columns"
   ]
  },
  {
   "cell_type": "code",
   "execution_count": 6,
   "metadata": {},
   "outputs": [
    {
     "name": "stdout",
     "output_type": "stream",
     "text": [
      "<class 'pandas.core.frame.DataFrame'>\n",
      "RangeIndex: 155 entries, 0 to 154\n",
      "Data columns (total 20 columns):\n",
      " #   Column           Non-Null Count  Dtype  \n",
      "---  ------           --------------  -----  \n",
      " 0   age              155 non-null    int64  \n",
      " 1   sex              155 non-null    object \n",
      " 2   steroid          154 non-null    object \n",
      " 3   antivirals       155 non-null    bool   \n",
      " 4   fatigue          154 non-null    object \n",
      " 5   malaise          154 non-null    object \n",
      " 6   anorexia         154 non-null    object \n",
      " 7   liver_big        145 non-null    object \n",
      " 8   liver_firm       144 non-null    object \n",
      " 9   spleen_palpable  150 non-null    object \n",
      " 10  spiders          150 non-null    object \n",
      " 11  ascites          150 non-null    object \n",
      " 12  varices          150 non-null    object \n",
      " 13  bilirubin        149 non-null    float64\n",
      " 14  alk_phosphate    126 non-null    float64\n",
      " 15  sgot             151 non-null    float64\n",
      " 16  albumin          139 non-null    float64\n",
      " 17  protime          88 non-null     float64\n",
      " 18  histology        155 non-null    bool   \n",
      " 19  class            155 non-null    object \n",
      "dtypes: bool(2), float64(5), int64(1), object(12)\n",
      "memory usage: 22.2+ KB\n"
     ]
    }
   ],
   "source": [
    "df.info()"
   ]
  },
  {
   "cell_type": "code",
   "execution_count": 7,
   "metadata": {},
   "outputs": [
    {
     "data": {
      "text/html": [
       "<div>\n",
       "<style scoped>\n",
       "    .dataframe tbody tr th:only-of-type {\n",
       "        vertical-align: middle;\n",
       "    }\n",
       "\n",
       "    .dataframe tbody tr th {\n",
       "        vertical-align: top;\n",
       "    }\n",
       "\n",
       "    .dataframe thead th {\n",
       "        text-align: right;\n",
       "    }\n",
       "</style>\n",
       "<table border=\"1\" class=\"dataframe\">\n",
       "  <thead>\n",
       "    <tr style=\"text-align: right;\">\n",
       "      <th></th>\n",
       "      <th>age</th>\n",
       "      <th>bilirubin</th>\n",
       "      <th>alk_phosphate</th>\n",
       "      <th>sgot</th>\n",
       "      <th>albumin</th>\n",
       "      <th>protime</th>\n",
       "    </tr>\n",
       "  </thead>\n",
       "  <tbody>\n",
       "    <tr>\n",
       "      <th>count</th>\n",
       "      <td>155.000000</td>\n",
       "      <td>149.000000</td>\n",
       "      <td>126.000000</td>\n",
       "      <td>151.00000</td>\n",
       "      <td>139.000000</td>\n",
       "      <td>88.000000</td>\n",
       "    </tr>\n",
       "    <tr>\n",
       "      <th>mean</th>\n",
       "      <td>41.200000</td>\n",
       "      <td>1.427517</td>\n",
       "      <td>105.325397</td>\n",
       "      <td>85.89404</td>\n",
       "      <td>3.817266</td>\n",
       "      <td>61.852273</td>\n",
       "    </tr>\n",
       "    <tr>\n",
       "      <th>std</th>\n",
       "      <td>12.565878</td>\n",
       "      <td>1.212149</td>\n",
       "      <td>51.508109</td>\n",
       "      <td>89.65089</td>\n",
       "      <td>0.651523</td>\n",
       "      <td>22.875244</td>\n",
       "    </tr>\n",
       "    <tr>\n",
       "      <th>min</th>\n",
       "      <td>7.000000</td>\n",
       "      <td>0.300000</td>\n",
       "      <td>26.000000</td>\n",
       "      <td>14.00000</td>\n",
       "      <td>2.100000</td>\n",
       "      <td>0.000000</td>\n",
       "    </tr>\n",
       "    <tr>\n",
       "      <th>25%</th>\n",
       "      <td>32.000000</td>\n",
       "      <td>0.700000</td>\n",
       "      <td>74.250000</td>\n",
       "      <td>31.50000</td>\n",
       "      <td>3.400000</td>\n",
       "      <td>46.000000</td>\n",
       "    </tr>\n",
       "    <tr>\n",
       "      <th>50%</th>\n",
       "      <td>39.000000</td>\n",
       "      <td>1.000000</td>\n",
       "      <td>85.000000</td>\n",
       "      <td>58.00000</td>\n",
       "      <td>4.000000</td>\n",
       "      <td>61.000000</td>\n",
       "    </tr>\n",
       "    <tr>\n",
       "      <th>75%</th>\n",
       "      <td>50.000000</td>\n",
       "      <td>1.500000</td>\n",
       "      <td>132.250000</td>\n",
       "      <td>100.50000</td>\n",
       "      <td>4.200000</td>\n",
       "      <td>76.250000</td>\n",
       "    </tr>\n",
       "    <tr>\n",
       "      <th>max</th>\n",
       "      <td>78.000000</td>\n",
       "      <td>8.000000</td>\n",
       "      <td>295.000000</td>\n",
       "      <td>648.00000</td>\n",
       "      <td>6.400000</td>\n",
       "      <td>100.000000</td>\n",
       "    </tr>\n",
       "  </tbody>\n",
       "</table>\n",
       "</div>"
      ],
      "text/plain": [
       "              age   bilirubin  alk_phosphate       sgot     albumin  \\\n",
       "count  155.000000  149.000000     126.000000  151.00000  139.000000   \n",
       "mean    41.200000    1.427517     105.325397   85.89404    3.817266   \n",
       "std     12.565878    1.212149      51.508109   89.65089    0.651523   \n",
       "min      7.000000    0.300000      26.000000   14.00000    2.100000   \n",
       "25%     32.000000    0.700000      74.250000   31.50000    3.400000   \n",
       "50%     39.000000    1.000000      85.000000   58.00000    4.000000   \n",
       "75%     50.000000    1.500000     132.250000  100.50000    4.200000   \n",
       "max     78.000000    8.000000     295.000000  648.00000    6.400000   \n",
       "\n",
       "          protime  \n",
       "count   88.000000  \n",
       "mean    61.852273  \n",
       "std     22.875244  \n",
       "min      0.000000  \n",
       "25%     46.000000  \n",
       "50%     61.000000  \n",
       "75%     76.250000  \n",
       "max    100.000000  "
      ]
     },
     "execution_count": 7,
     "metadata": {},
     "output_type": "execute_result"
    }
   ],
   "source": [
    "df.describe()"
   ]
  },
  {
   "cell_type": "markdown",
   "metadata": {},
   "source": [
    "Checking for missing values:"
   ]
  },
  {
   "cell_type": "code",
   "execution_count": 8,
   "metadata": {},
   "outputs": [
    {
     "data": {
      "text/plain": [
       "age                 0\n",
       "sex                 0\n",
       "steroid             1\n",
       "antivirals          0\n",
       "fatigue             1\n",
       "malaise             1\n",
       "anorexia            1\n",
       "liver_big          10\n",
       "liver_firm         11\n",
       "spleen_palpable     5\n",
       "spiders             5\n",
       "ascites             5\n",
       "varices             5\n",
       "bilirubin           6\n",
       "alk_phosphate      29\n",
       "sgot                4\n",
       "albumin            16\n",
       "protime            67\n",
       "histology           0\n",
       "class               0\n",
       "dtype: int64"
      ]
     },
     "execution_count": 8,
     "metadata": {},
     "output_type": "execute_result"
    }
   ],
   "source": [
    "df.isnull().sum()"
   ]
  },
  {
   "cell_type": "markdown",
   "metadata": {},
   "source": [
    "This data contains more missing values. Equal amount of missing values are present in both numerical and categorica variables. \n",
    "I've imputing these missing values in R studio using mice imputer so that both numerical and categorical values gets imputed."
   ]
  },
  {
   "cell_type": "markdown",
   "metadata": {},
   "source": [
    "# R Studio Scripting: "
   ]
  },
  {
   "cell_type": "code",
   "execution_count": 9,
   "metadata": {},
   "outputs": [],
   "source": [
    "import subprocess"
   ]
  },
  {
   "cell_type": "code",
   "execution_count": 10,
   "metadata": {},
   "outputs": [
    {
     "data": {
      "text/plain": [
       "0"
      ]
     },
     "execution_count": 10,
     "metadata": {},
     "output_type": "execute_result"
    }
   ],
   "source": [
    "f = open('imputed_hepatitis.R','w+')\n",
    "f.write('''\n",
    "library(mice)\n",
    "df <- read.csv('hepatitis_csv.csv',na.strings=c(\"na\",\"NA\",\" \",\"\"))\n",
    "res <- mice(data=df,m=5,method=\"pmm\",maxiter=5)\n",
    "complete(res,1) -> result\n",
    "write.csv(result,\"hepatitis_csv_imputation.csv\",row.names=FALSE)\n",
    "''')\n",
    "f.close()\n",
    "\n",
    "subprocess.call(\"imputed_hepatitis.R\",shell=True)"
   ]
  },
  {
   "cell_type": "code",
   "execution_count": 11,
   "metadata": {},
   "outputs": [],
   "source": [
    "df1 = pd.read_csv(\"C:\\\\Users\\\\91979\\\\Desktop\\\\hepatitis.csv\", index_col=\"Unnamed: 0\")"
   ]
  },
  {
   "cell_type": "code",
   "execution_count": 12,
   "metadata": {},
   "outputs": [
    {
     "data": {
      "text/html": [
       "<div>\n",
       "<style scoped>\n",
       "    .dataframe tbody tr th:only-of-type {\n",
       "        vertical-align: middle;\n",
       "    }\n",
       "\n",
       "    .dataframe tbody tr th {\n",
       "        vertical-align: top;\n",
       "    }\n",
       "\n",
       "    .dataframe thead th {\n",
       "        text-align: right;\n",
       "    }\n",
       "</style>\n",
       "<table border=\"1\" class=\"dataframe\">\n",
       "  <thead>\n",
       "    <tr style=\"text-align: right;\">\n",
       "      <th></th>\n",
       "      <th>age</th>\n",
       "      <th>sex</th>\n",
       "      <th>steroid</th>\n",
       "      <th>antivirals</th>\n",
       "      <th>fatigue</th>\n",
       "      <th>malaise</th>\n",
       "      <th>anorexia</th>\n",
       "      <th>liver_big</th>\n",
       "      <th>liver_firm</th>\n",
       "      <th>spleen_palpable</th>\n",
       "      <th>spiders</th>\n",
       "      <th>ascites</th>\n",
       "      <th>varices</th>\n",
       "      <th>bilirubin</th>\n",
       "      <th>alk_phosphate</th>\n",
       "      <th>sgot</th>\n",
       "      <th>albumin</th>\n",
       "      <th>protime</th>\n",
       "      <th>histology</th>\n",
       "      <th>class</th>\n",
       "    </tr>\n",
       "  </thead>\n",
       "  <tbody>\n",
       "    <tr>\n",
       "      <th>1</th>\n",
       "      <td>30</td>\n",
       "      <td>male</td>\n",
       "      <td>False</td>\n",
       "      <td>False</td>\n",
       "      <td>False</td>\n",
       "      <td>False</td>\n",
       "      <td>False</td>\n",
       "      <td>False</td>\n",
       "      <td>False</td>\n",
       "      <td>False</td>\n",
       "      <td>False</td>\n",
       "      <td>False</td>\n",
       "      <td>False</td>\n",
       "      <td>1.0</td>\n",
       "      <td>85</td>\n",
       "      <td>18</td>\n",
       "      <td>4.0</td>\n",
       "      <td>100</td>\n",
       "      <td>False</td>\n",
       "      <td>live</td>\n",
       "    </tr>\n",
       "    <tr>\n",
       "      <th>2</th>\n",
       "      <td>50</td>\n",
       "      <td>female</td>\n",
       "      <td>False</td>\n",
       "      <td>False</td>\n",
       "      <td>True</td>\n",
       "      <td>False</td>\n",
       "      <td>False</td>\n",
       "      <td>False</td>\n",
       "      <td>False</td>\n",
       "      <td>False</td>\n",
       "      <td>False</td>\n",
       "      <td>False</td>\n",
       "      <td>False</td>\n",
       "      <td>0.9</td>\n",
       "      <td>135</td>\n",
       "      <td>42</td>\n",
       "      <td>3.5</td>\n",
       "      <td>60</td>\n",
       "      <td>False</td>\n",
       "      <td>live</td>\n",
       "    </tr>\n",
       "    <tr>\n",
       "      <th>3</th>\n",
       "      <td>78</td>\n",
       "      <td>female</td>\n",
       "      <td>True</td>\n",
       "      <td>False</td>\n",
       "      <td>True</td>\n",
       "      <td>False</td>\n",
       "      <td>False</td>\n",
       "      <td>True</td>\n",
       "      <td>False</td>\n",
       "      <td>False</td>\n",
       "      <td>False</td>\n",
       "      <td>False</td>\n",
       "      <td>False</td>\n",
       "      <td>0.7</td>\n",
       "      <td>96</td>\n",
       "      <td>32</td>\n",
       "      <td>4.0</td>\n",
       "      <td>0</td>\n",
       "      <td>False</td>\n",
       "      <td>live</td>\n",
       "    </tr>\n",
       "    <tr>\n",
       "      <th>4</th>\n",
       "      <td>31</td>\n",
       "      <td>female</td>\n",
       "      <td>False</td>\n",
       "      <td>True</td>\n",
       "      <td>False</td>\n",
       "      <td>False</td>\n",
       "      <td>False</td>\n",
       "      <td>True</td>\n",
       "      <td>False</td>\n",
       "      <td>False</td>\n",
       "      <td>False</td>\n",
       "      <td>False</td>\n",
       "      <td>False</td>\n",
       "      <td>0.7</td>\n",
       "      <td>46</td>\n",
       "      <td>52</td>\n",
       "      <td>4.0</td>\n",
       "      <td>80</td>\n",
       "      <td>False</td>\n",
       "      <td>live</td>\n",
       "    </tr>\n",
       "    <tr>\n",
       "      <th>5</th>\n",
       "      <td>34</td>\n",
       "      <td>female</td>\n",
       "      <td>True</td>\n",
       "      <td>False</td>\n",
       "      <td>False</td>\n",
       "      <td>False</td>\n",
       "      <td>False</td>\n",
       "      <td>True</td>\n",
       "      <td>False</td>\n",
       "      <td>False</td>\n",
       "      <td>False</td>\n",
       "      <td>False</td>\n",
       "      <td>False</td>\n",
       "      <td>1.0</td>\n",
       "      <td>78</td>\n",
       "      <td>200</td>\n",
       "      <td>4.0</td>\n",
       "      <td>35</td>\n",
       "      <td>False</td>\n",
       "      <td>live</td>\n",
       "    </tr>\n",
       "    <tr>\n",
       "      <th>...</th>\n",
       "      <td>...</td>\n",
       "      <td>...</td>\n",
       "      <td>...</td>\n",
       "      <td>...</td>\n",
       "      <td>...</td>\n",
       "      <td>...</td>\n",
       "      <td>...</td>\n",
       "      <td>...</td>\n",
       "      <td>...</td>\n",
       "      <td>...</td>\n",
       "      <td>...</td>\n",
       "      <td>...</td>\n",
       "      <td>...</td>\n",
       "      <td>...</td>\n",
       "      <td>...</td>\n",
       "      <td>...</td>\n",
       "      <td>...</td>\n",
       "      <td>...</td>\n",
       "      <td>...</td>\n",
       "      <td>...</td>\n",
       "    </tr>\n",
       "    <tr>\n",
       "      <th>151</th>\n",
       "      <td>46</td>\n",
       "      <td>female</td>\n",
       "      <td>True</td>\n",
       "      <td>False</td>\n",
       "      <td>True</td>\n",
       "      <td>True</td>\n",
       "      <td>True</td>\n",
       "      <td>True</td>\n",
       "      <td>False</td>\n",
       "      <td>False</td>\n",
       "      <td>True</td>\n",
       "      <td>True</td>\n",
       "      <td>True</td>\n",
       "      <td>7.6</td>\n",
       "      <td>85</td>\n",
       "      <td>242</td>\n",
       "      <td>3.3</td>\n",
       "      <td>50</td>\n",
       "      <td>True</td>\n",
       "      <td>die</td>\n",
       "    </tr>\n",
       "    <tr>\n",
       "      <th>152</th>\n",
       "      <td>44</td>\n",
       "      <td>female</td>\n",
       "      <td>True</td>\n",
       "      <td>False</td>\n",
       "      <td>True</td>\n",
       "      <td>False</td>\n",
       "      <td>False</td>\n",
       "      <td>True</td>\n",
       "      <td>True</td>\n",
       "      <td>False</td>\n",
       "      <td>False</td>\n",
       "      <td>False</td>\n",
       "      <td>False</td>\n",
       "      <td>0.9</td>\n",
       "      <td>126</td>\n",
       "      <td>142</td>\n",
       "      <td>4.3</td>\n",
       "      <td>31</td>\n",
       "      <td>True</td>\n",
       "      <td>live</td>\n",
       "    </tr>\n",
       "    <tr>\n",
       "      <th>153</th>\n",
       "      <td>61</td>\n",
       "      <td>female</td>\n",
       "      <td>False</td>\n",
       "      <td>False</td>\n",
       "      <td>True</td>\n",
       "      <td>True</td>\n",
       "      <td>False</td>\n",
       "      <td>False</td>\n",
       "      <td>True</td>\n",
       "      <td>False</td>\n",
       "      <td>True</td>\n",
       "      <td>False</td>\n",
       "      <td>False</td>\n",
       "      <td>0.8</td>\n",
       "      <td>75</td>\n",
       "      <td>20</td>\n",
       "      <td>4.1</td>\n",
       "      <td>100</td>\n",
       "      <td>True</td>\n",
       "      <td>live</td>\n",
       "    </tr>\n",
       "    <tr>\n",
       "      <th>154</th>\n",
       "      <td>53</td>\n",
       "      <td>male</td>\n",
       "      <td>False</td>\n",
       "      <td>False</td>\n",
       "      <td>True</td>\n",
       "      <td>False</td>\n",
       "      <td>False</td>\n",
       "      <td>True</td>\n",
       "      <td>False</td>\n",
       "      <td>True</td>\n",
       "      <td>True</td>\n",
       "      <td>False</td>\n",
       "      <td>True</td>\n",
       "      <td>1.5</td>\n",
       "      <td>81</td>\n",
       "      <td>19</td>\n",
       "      <td>4.1</td>\n",
       "      <td>48</td>\n",
       "      <td>True</td>\n",
       "      <td>live</td>\n",
       "    </tr>\n",
       "    <tr>\n",
       "      <th>155</th>\n",
       "      <td>43</td>\n",
       "      <td>female</td>\n",
       "      <td>True</td>\n",
       "      <td>False</td>\n",
       "      <td>True</td>\n",
       "      <td>False</td>\n",
       "      <td>False</td>\n",
       "      <td>True</td>\n",
       "      <td>False</td>\n",
       "      <td>True</td>\n",
       "      <td>True</td>\n",
       "      <td>True</td>\n",
       "      <td>False</td>\n",
       "      <td>1.2</td>\n",
       "      <td>100</td>\n",
       "      <td>19</td>\n",
       "      <td>3.1</td>\n",
       "      <td>42</td>\n",
       "      <td>True</td>\n",
       "      <td>die</td>\n",
       "    </tr>\n",
       "  </tbody>\n",
       "</table>\n",
       "<p>155 rows × 20 columns</p>\n",
       "</div>"
      ],
      "text/plain": [
       "     age     sex  steroid  antivirals  fatigue  malaise  anorexia  liver_big  \\\n",
       "1     30    male    False       False    False    False     False      False   \n",
       "2     50  female    False       False     True    False     False      False   \n",
       "3     78  female     True       False     True    False     False       True   \n",
       "4     31  female    False        True    False    False     False       True   \n",
       "5     34  female     True       False    False    False     False       True   \n",
       "..   ...     ...      ...         ...      ...      ...       ...        ...   \n",
       "151   46  female     True       False     True     True      True       True   \n",
       "152   44  female     True       False     True    False     False       True   \n",
       "153   61  female    False       False     True     True     False      False   \n",
       "154   53    male    False       False     True    False     False       True   \n",
       "155   43  female     True       False     True    False     False       True   \n",
       "\n",
       "     liver_firm  spleen_palpable  spiders  ascites  varices  bilirubin  \\\n",
       "1         False            False    False    False    False        1.0   \n",
       "2         False            False    False    False    False        0.9   \n",
       "3         False            False    False    False    False        0.7   \n",
       "4         False            False    False    False    False        0.7   \n",
       "5         False            False    False    False    False        1.0   \n",
       "..          ...              ...      ...      ...      ...        ...   \n",
       "151       False            False     True     True     True        7.6   \n",
       "152        True            False    False    False    False        0.9   \n",
       "153        True            False     True    False    False        0.8   \n",
       "154       False             True     True    False     True        1.5   \n",
       "155       False             True     True     True    False        1.2   \n",
       "\n",
       "     alk_phosphate  sgot  albumin  protime  histology class  \n",
       "1               85    18      4.0      100      False  live  \n",
       "2              135    42      3.5       60      False  live  \n",
       "3               96    32      4.0        0      False  live  \n",
       "4               46    52      4.0       80      False  live  \n",
       "5               78   200      4.0       35      False  live  \n",
       "..             ...   ...      ...      ...        ...   ...  \n",
       "151             85   242      3.3       50       True   die  \n",
       "152            126   142      4.3       31       True  live  \n",
       "153             75    20      4.1      100       True  live  \n",
       "154             81    19      4.1       48       True  live  \n",
       "155            100    19      3.1       42       True   die  \n",
       "\n",
       "[155 rows x 20 columns]"
      ]
     },
     "execution_count": 12,
     "metadata": {},
     "output_type": "execute_result"
    }
   ],
   "source": [
    "df1"
   ]
  },
  {
   "cell_type": "code",
   "execution_count": 67,
   "metadata": {},
   "outputs": [
    {
     "data": {
      "text/plain": [
       "<AxesSubplot:xlabel='age', ylabel='count'>"
      ]
     },
     "execution_count": 67,
     "metadata": {},
     "output_type": "execute_result"
    },
    {
     "data": {
      "image/png": "[encoded data removed]",
      "text/plain": [
       "<Figure size 1296x648 with 1 Axes>"
      ]
     },
     "metadata": {
      "needs_background": "light"
     },
     "output_type": "display_data"
    }
   ],
   "source": [
    "plt.figure(figsize=(18,9))\n",
    "sns.countplot(x='age', data=df1, hue='class')"
   ]
  },
  {
   "cell_type": "code",
   "execution_count": 13,
   "metadata": {},
   "outputs": [],
   "source": [
    "numerical_data = df1.select_dtypes(include=['int64','float64'])"
   ]
  },
  {
   "cell_type": "code",
   "execution_count": 14,
   "metadata": {},
   "outputs": [
    {
     "data": {
      "text/plain": [
       "Index(['age', 'bilirubin', 'alk_phosphate', 'sgot', 'albumin', 'protime'], dtype='object')"
      ]
     },
     "execution_count": 14,
     "metadata": {},
     "output_type": "execute_result"
    }
   ],
   "source": [
    "numerical_data.columns"
   ]
  },
  {
   "cell_type": "code",
   "execution_count": 15,
   "metadata": {},
   "outputs": [
    {
     "data": {
      "text/html": [
       "<div>\n",
       "<style scoped>\n",
       "    .dataframe tbody tr th:only-of-type {\n",
       "        vertical-align: middle;\n",
       "    }\n",
       "\n",
       "    .dataframe tbody tr th {\n",
       "        vertical-align: top;\n",
       "    }\n",
       "\n",
       "    .dataframe thead th {\n",
       "        text-align: right;\n",
       "    }\n",
       "</style>\n",
       "<table border=\"1\" class=\"dataframe\">\n",
       "  <thead>\n",
       "    <tr style=\"text-align: right;\">\n",
       "      <th></th>\n",
       "      <th>age</th>\n",
       "      <th>bilirubin</th>\n",
       "      <th>alk_phosphate</th>\n",
       "      <th>sgot</th>\n",
       "      <th>albumin</th>\n",
       "      <th>protime</th>\n",
       "    </tr>\n",
       "  </thead>\n",
       "  <tbody>\n",
       "    <tr>\n",
       "      <th>1</th>\n",
       "      <td>30</td>\n",
       "      <td>1.0</td>\n",
       "      <td>85</td>\n",
       "      <td>18</td>\n",
       "      <td>4.0</td>\n",
       "      <td>100</td>\n",
       "    </tr>\n",
       "    <tr>\n",
       "      <th>2</th>\n",
       "      <td>50</td>\n",
       "      <td>0.9</td>\n",
       "      <td>135</td>\n",
       "      <td>42</td>\n",
       "      <td>3.5</td>\n",
       "      <td>60</td>\n",
       "    </tr>\n",
       "    <tr>\n",
       "      <th>3</th>\n",
       "      <td>78</td>\n",
       "      <td>0.7</td>\n",
       "      <td>96</td>\n",
       "      <td>32</td>\n",
       "      <td>4.0</td>\n",
       "      <td>0</td>\n",
       "    </tr>\n",
       "    <tr>\n",
       "      <th>4</th>\n",
       "      <td>31</td>\n",
       "      <td>0.7</td>\n",
       "      <td>46</td>\n",
       "      <td>52</td>\n",
       "      <td>4.0</td>\n",
       "      <td>80</td>\n",
       "    </tr>\n",
       "    <tr>\n",
       "      <th>5</th>\n",
       "      <td>34</td>\n",
       "      <td>1.0</td>\n",
       "      <td>78</td>\n",
       "      <td>200</td>\n",
       "      <td>4.0</td>\n",
       "      <td>35</td>\n",
       "    </tr>\n",
       "    <tr>\n",
       "      <th>...</th>\n",
       "      <td>...</td>\n",
       "      <td>...</td>\n",
       "      <td>...</td>\n",
       "      <td>...</td>\n",
       "      <td>...</td>\n",
       "      <td>...</td>\n",
       "    </tr>\n",
       "    <tr>\n",
       "      <th>151</th>\n",
       "      <td>46</td>\n",
       "      <td>7.6</td>\n",
       "      <td>85</td>\n",
       "      <td>242</td>\n",
       "      <td>3.3</td>\n",
       "      <td>50</td>\n",
       "    </tr>\n",
       "    <tr>\n",
       "      <th>152</th>\n",
       "      <td>44</td>\n",
       "      <td>0.9</td>\n",
       "      <td>126</td>\n",
       "      <td>142</td>\n",
       "      <td>4.3</td>\n",
       "      <td>31</td>\n",
       "    </tr>\n",
       "    <tr>\n",
       "      <th>153</th>\n",
       "      <td>61</td>\n",
       "      <td>0.8</td>\n",
       "      <td>75</td>\n",
       "      <td>20</td>\n",
       "      <td>4.1</td>\n",
       "      <td>100</td>\n",
       "    </tr>\n",
       "    <tr>\n",
       "      <th>154</th>\n",
       "      <td>53</td>\n",
       "      <td>1.5</td>\n",
       "      <td>81</td>\n",
       "      <td>19</td>\n",
       "      <td>4.1</td>\n",
       "      <td>48</td>\n",
       "    </tr>\n",
       "    <tr>\n",
       "      <th>155</th>\n",
       "      <td>43</td>\n",
       "      <td>1.2</td>\n",
       "      <td>100</td>\n",
       "      <td>19</td>\n",
       "      <td>3.1</td>\n",
       "      <td>42</td>\n",
       "    </tr>\n",
       "  </tbody>\n",
       "</table>\n",
       "<p>155 rows × 6 columns</p>\n",
       "</div>"
      ],
      "text/plain": [
       "     age  bilirubin  alk_phosphate  sgot  albumin  protime\n",
       "1     30        1.0             85    18      4.0      100\n",
       "2     50        0.9            135    42      3.5       60\n",
       "3     78        0.7             96    32      4.0        0\n",
       "4     31        0.7             46    52      4.0       80\n",
       "5     34        1.0             78   200      4.0       35\n",
       "..   ...        ...            ...   ...      ...      ...\n",
       "151   46        7.6             85   242      3.3       50\n",
       "152   44        0.9            126   142      4.3       31\n",
       "153   61        0.8             75    20      4.1      100\n",
       "154   53        1.5             81    19      4.1       48\n",
       "155   43        1.2            100    19      3.1       42\n",
       "\n",
       "[155 rows x 6 columns]"
      ]
     },
     "execution_count": 15,
     "metadata": {},
     "output_type": "execute_result"
    }
   ],
   "source": [
    "numerical_data"
   ]
  },
  {
   "cell_type": "code",
   "execution_count": 16,
   "metadata": {},
   "outputs": [],
   "source": [
    "categorical_data = df1.select_dtypes(include=['object','bool'])"
   ]
  },
  {
   "cell_type": "code",
   "execution_count": 17,
   "metadata": {},
   "outputs": [
    {
     "data": {
      "text/plain": [
       "Index(['sex', 'steroid', 'antivirals', 'fatigue', 'malaise', 'anorexia',\n",
       "       'liver_big', 'liver_firm', 'spleen_palpable', 'spiders', 'ascites',\n",
       "       'varices', 'histology', 'class'],\n",
       "      dtype='object')"
      ]
     },
     "execution_count": 17,
     "metadata": {},
     "output_type": "execute_result"
    }
   ],
   "source": [
    "categorical_data.columns"
   ]
  },
  {
   "cell_type": "code",
   "execution_count": 18,
   "metadata": {},
   "outputs": [
    {
     "data": {
      "text/html": [
       "<div>\n",
       "<style scoped>\n",
       "    .dataframe tbody tr th:only-of-type {\n",
       "        vertical-align: middle;\n",
       "    }\n",
       "\n",
       "    .dataframe tbody tr th {\n",
       "        vertical-align: top;\n",
       "    }\n",
       "\n",
       "    .dataframe thead th {\n",
       "        text-align: right;\n",
       "    }\n",
       "</style>\n",
       "<table border=\"1\" class=\"dataframe\">\n",
       "  <thead>\n",
       "    <tr style=\"text-align: right;\">\n",
       "      <th></th>\n",
       "      <th>sex</th>\n",
       "      <th>steroid</th>\n",
       "      <th>antivirals</th>\n",
       "      <th>fatigue</th>\n",
       "      <th>malaise</th>\n",
       "      <th>anorexia</th>\n",
       "      <th>liver_big</th>\n",
       "      <th>liver_firm</th>\n",
       "      <th>spleen_palpable</th>\n",
       "      <th>spiders</th>\n",
       "      <th>ascites</th>\n",
       "      <th>varices</th>\n",
       "      <th>histology</th>\n",
       "      <th>class</th>\n",
       "    </tr>\n",
       "  </thead>\n",
       "  <tbody>\n",
       "    <tr>\n",
       "      <th>1</th>\n",
       "      <td>male</td>\n",
       "      <td>False</td>\n",
       "      <td>False</td>\n",
       "      <td>False</td>\n",
       "      <td>False</td>\n",
       "      <td>False</td>\n",
       "      <td>False</td>\n",
       "      <td>False</td>\n",
       "      <td>False</td>\n",
       "      <td>False</td>\n",
       "      <td>False</td>\n",
       "      <td>False</td>\n",
       "      <td>False</td>\n",
       "      <td>live</td>\n",
       "    </tr>\n",
       "    <tr>\n",
       "      <th>2</th>\n",
       "      <td>female</td>\n",
       "      <td>False</td>\n",
       "      <td>False</td>\n",
       "      <td>True</td>\n",
       "      <td>False</td>\n",
       "      <td>False</td>\n",
       "      <td>False</td>\n",
       "      <td>False</td>\n",
       "      <td>False</td>\n",
       "      <td>False</td>\n",
       "      <td>False</td>\n",
       "      <td>False</td>\n",
       "      <td>False</td>\n",
       "      <td>live</td>\n",
       "    </tr>\n",
       "    <tr>\n",
       "      <th>3</th>\n",
       "      <td>female</td>\n",
       "      <td>True</td>\n",
       "      <td>False</td>\n",
       "      <td>True</td>\n",
       "      <td>False</td>\n",
       "      <td>False</td>\n",
       "      <td>True</td>\n",
       "      <td>False</td>\n",
       "      <td>False</td>\n",
       "      <td>False</td>\n",
       "      <td>False</td>\n",
       "      <td>False</td>\n",
       "      <td>False</td>\n",
       "      <td>live</td>\n",
       "    </tr>\n",
       "    <tr>\n",
       "      <th>4</th>\n",
       "      <td>female</td>\n",
       "      <td>False</td>\n",
       "      <td>True</td>\n",
       "      <td>False</td>\n",
       "      <td>False</td>\n",
       "      <td>False</td>\n",
       "      <td>True</td>\n",
       "      <td>False</td>\n",
       "      <td>False</td>\n",
       "      <td>False</td>\n",
       "      <td>False</td>\n",
       "      <td>False</td>\n",
       "      <td>False</td>\n",
       "      <td>live</td>\n",
       "    </tr>\n",
       "    <tr>\n",
       "      <th>5</th>\n",
       "      <td>female</td>\n",
       "      <td>True</td>\n",
       "      <td>False</td>\n",
       "      <td>False</td>\n",
       "      <td>False</td>\n",
       "      <td>False</td>\n",
       "      <td>True</td>\n",
       "      <td>False</td>\n",
       "      <td>False</td>\n",
       "      <td>False</td>\n",
       "      <td>False</td>\n",
       "      <td>False</td>\n",
       "      <td>False</td>\n",
       "      <td>live</td>\n",
       "    </tr>\n",
       "    <tr>\n",
       "      <th>...</th>\n",
       "      <td>...</td>\n",
       "      <td>...</td>\n",
       "      <td>...</td>\n",
       "      <td>...</td>\n",
       "      <td>...</td>\n",
       "      <td>...</td>\n",
       "      <td>...</td>\n",
       "      <td>...</td>\n",
       "      <td>...</td>\n",
       "      <td>...</td>\n",
       "      <td>...</td>\n",
       "      <td>...</td>\n",
       "      <td>...</td>\n",
       "      <td>...</td>\n",
       "    </tr>\n",
       "    <tr>\n",
       "      <th>151</th>\n",
       "      <td>female</td>\n",
       "      <td>True</td>\n",
       "      <td>False</td>\n",
       "      <td>True</td>\n",
       "      <td>True</td>\n",
       "      <td>True</td>\n",
       "      <td>True</td>\n",
       "      <td>False</td>\n",
       "      <td>False</td>\n",
       "      <td>True</td>\n",
       "      <td>True</td>\n",
       "      <td>True</td>\n",
       "      <td>True</td>\n",
       "      <td>die</td>\n",
       "    </tr>\n",
       "    <tr>\n",
       "      <th>152</th>\n",
       "      <td>female</td>\n",
       "      <td>True</td>\n",
       "      <td>False</td>\n",
       "      <td>True</td>\n",
       "      <td>False</td>\n",
       "      <td>False</td>\n",
       "      <td>True</td>\n",
       "      <td>True</td>\n",
       "      <td>False</td>\n",
       "      <td>False</td>\n",
       "      <td>False</td>\n",
       "      <td>False</td>\n",
       "      <td>True</td>\n",
       "      <td>live</td>\n",
       "    </tr>\n",
       "    <tr>\n",
       "      <th>153</th>\n",
       "      <td>female</td>\n",
       "      <td>False</td>\n",
       "      <td>False</td>\n",
       "      <td>True</td>\n",
       "      <td>True</td>\n",
       "      <td>False</td>\n",
       "      <td>False</td>\n",
       "      <td>True</td>\n",
       "      <td>False</td>\n",
       "      <td>True</td>\n",
       "      <td>False</td>\n",
       "      <td>False</td>\n",
       "      <td>True</td>\n",
       "      <td>live</td>\n",
       "    </tr>\n",
       "    <tr>\n",
       "      <th>154</th>\n",
       "      <td>male</td>\n",
       "      <td>False</td>\n",
       "      <td>False</td>\n",
       "      <td>True</td>\n",
       "      <td>False</td>\n",
       "      <td>False</td>\n",
       "      <td>True</td>\n",
       "      <td>False</td>\n",
       "      <td>True</td>\n",
       "      <td>True</td>\n",
       "      <td>False</td>\n",
       "      <td>True</td>\n",
       "      <td>True</td>\n",
       "      <td>live</td>\n",
       "    </tr>\n",
       "    <tr>\n",
       "      <th>155</th>\n",
       "      <td>female</td>\n",
       "      <td>True</td>\n",
       "      <td>False</td>\n",
       "      <td>True</td>\n",
       "      <td>False</td>\n",
       "      <td>False</td>\n",
       "      <td>True</td>\n",
       "      <td>False</td>\n",
       "      <td>True</td>\n",
       "      <td>True</td>\n",
       "      <td>True</td>\n",
       "      <td>False</td>\n",
       "      <td>True</td>\n",
       "      <td>die</td>\n",
       "    </tr>\n",
       "  </tbody>\n",
       "</table>\n",
       "<p>155 rows × 14 columns</p>\n",
       "</div>"
      ],
      "text/plain": [
       "        sex  steroid  antivirals  fatigue  malaise  anorexia  liver_big  \\\n",
       "1      male    False       False    False    False     False      False   \n",
       "2    female    False       False     True    False     False      False   \n",
       "3    female     True       False     True    False     False       True   \n",
       "4    female    False        True    False    False     False       True   \n",
       "5    female     True       False    False    False     False       True   \n",
       "..      ...      ...         ...      ...      ...       ...        ...   \n",
       "151  female     True       False     True     True      True       True   \n",
       "152  female     True       False     True    False     False       True   \n",
       "153  female    False       False     True     True     False      False   \n",
       "154    male    False       False     True    False     False       True   \n",
       "155  female     True       False     True    False     False       True   \n",
       "\n",
       "     liver_firm  spleen_palpable  spiders  ascites  varices  histology class  \n",
       "1         False            False    False    False    False      False  live  \n",
       "2         False            False    False    False    False      False  live  \n",
       "3         False            False    False    False    False      False  live  \n",
       "4         False            False    False    False    False      False  live  \n",
       "5         False            False    False    False    False      False  live  \n",
       "..          ...              ...      ...      ...      ...        ...   ...  \n",
       "151       False            False     True     True     True       True   die  \n",
       "152        True            False    False    False    False       True  live  \n",
       "153        True            False     True    False    False       True  live  \n",
       "154       False             True     True    False     True       True  live  \n",
       "155       False             True     True     True    False       True   die  \n",
       "\n",
       "[155 rows x 14 columns]"
      ]
     },
     "execution_count": 18,
     "metadata": {},
     "output_type": "execute_result"
    }
   ],
   "source": [
    "categorical_data"
   ]
  },
  {
   "cell_type": "markdown",
   "metadata": {},
   "source": [
    "# EXPLORATORY DATA ANALYSIS:"
   ]
  },
  {
   "cell_type": "markdown",
   "metadata": {},
   "source": [
    "# Patients Status:"
   ]
  },
  {
   "cell_type": "code",
   "execution_count": 109,
   "metadata": {},
   "outputs": [
    {
     "name": "stderr",
     "output_type": "stream",
     "text": [
      "C:\\Users\\91979\\anaconda3\\lib\\site-packages\\seaborn\\_decorators.py:36: FutureWarning: Pass the following variable as a keyword arg: x. From version 0.12, the only valid positional argument will be `data`, and passing other arguments without an explicit keyword will result in an error or misinterpretation.\n",
      "  warnings.warn(\n"
     ]
    },
    {
     "data": {
      "text/plain": [
       "<AxesSubplot:xlabel='sex', ylabel='count'>"
      ]
     },
     "execution_count": 109,
     "metadata": {},
     "output_type": "execute_result"
    },
    {
     "data": {
      "image/png": "[encoded data removed]",
      "text/plain": [
       "<Figure size 432x288 with 1 Axes>"
      ]
     },
     "metadata": {
      "needs_background": "light"
     },
     "output_type": "display_data"
    }
   ],
   "source": [
    "sns.countplot(df1['sex'])"
   ]
  },
  {
   "cell_type": "markdown",
   "metadata": {},
   "source": [
    "# Patients Current Status:"
   ]
  },
  {
   "cell_type": "code",
   "execution_count": 107,
   "metadata": {},
   "outputs": [
    {
     "data": {
      "text/plain": [
       "sex     class\n",
       "female  live      76.978417\n",
       "        die       23.021583\n",
       "male    live     100.000000\n",
       "Name: class, dtype: float64"
      ]
     },
     "execution_count": 107,
     "metadata": {},
     "output_type": "execute_result"
    }
   ],
   "source": [
    "categorical_data.groupby(categorical_data[\"sex\"])[\"class\"].value_counts(normalize=True)*100"
   ]
  },
  {
   "cell_type": "markdown",
   "metadata": {},
   "source": [
    "The categorical columns present in the data is seperated. All the categorical columns are plotted graphically and explained about the intake of medicines and symptoms faced by the patients.\n",
    "\n",
    "76% of female are alive and 23% of female are dead in the total dataset.\n",
    "\n",
    "None of the male patients are dead."
   ]
  },
  {
   "cell_type": "markdown",
   "metadata": {},
   "source": [
    "# Patients Consuming Steroid Status:"
   ]
  },
  {
   "cell_type": "markdown",
   "metadata": {},
   "source": [
    "Steroids include drugs used to relieve swelling and inflammation."
   ]
  },
  {
   "cell_type": "code",
   "execution_count": 52,
   "metadata": {},
   "outputs": [
    {
     "name": "stderr",
     "output_type": "stream",
     "text": [
      "C:\\Users\\91979\\anaconda3\\lib\\site-packages\\seaborn\\_decorators.py:36: FutureWarning: Pass the following variable as a keyword arg: x. From version 0.12, the only valid positional argument will be `data`, and passing other arguments without an explicit keyword will result in an error or misinterpretation.\n",
      "  warnings.warn(\n",
      "C:\\Users\\91979\\anaconda3\\lib\\site-packages\\seaborn\\_decorators.py:36: FutureWarning: Pass the following variable as a keyword arg: x. From version 0.12, the only valid positional argument will be `data`, and passing other arguments without an explicit keyword will result in an error or misinterpretation.\n",
      "  warnings.warn(\n",
      "C:\\Users\\91979\\anaconda3\\lib\\site-packages\\seaborn\\_decorators.py:36: FutureWarning: Pass the following variable as a keyword arg: x. From version 0.12, the only valid positional argument will be `data`, and passing other arguments without an explicit keyword will result in an error or misinterpretation.\n",
      "  warnings.warn(\n"
     ]
    },
    {
     "data": {
      "image/png": "[encoded data removed]",
      "text/plain": [
       "<Figure size 1080x360 with 3 Axes>"
      ]
     },
     "metadata": {
      "needs_background": "light"
     },
     "output_type": "display_data"
    }
   ],
   "source": [
    "fig,ax = plt.subplots(1,3,figsize=[15,5])\n",
    "sns.countplot(df1['steroid'], ax= ax[0]);\n",
    "sns.countplot(df1['steroid'],hue = df1['class'],ax = ax[1]);\n",
    "sns.countplot(df1['steroid'],hue = df1['sex'],ax = ax[2]);\n",
    "ax[0].set_title('Steroid Intake')\n",
    "ax[1].set_title('Steroid vs Class')\n",
    "ax[2].set_title('Steroid vs Sex')\n",
    "plt.tight_layout();"
   ]
  },
  {
   "cell_type": "code",
   "execution_count": 117,
   "metadata": {},
   "outputs": [
    {
     "data": {
      "text/plain": [
       "sex     steroid\n",
       "female  True       51.079137\n",
       "        False      48.920863\n",
       "male    False      56.250000\n",
       "        True       43.750000\n",
       "Name: steroid, dtype: float64"
      ]
     },
     "execution_count": 117,
     "metadata": {},
     "output_type": "execute_result"
    }
   ],
   "source": [
    "categorical_data.groupby(categorical_data['sex'])['steroid'].value_counts(normalize=True)*100"
   ]
  },
  {
   "cell_type": "code",
   "execution_count": 93,
   "metadata": {},
   "outputs": [
    {
     "data": {
      "text/plain": [
       "Text(0.5, 1.0, 'The age group between 28-30 and 50-52 are taking steroids')"
      ]
     },
     "execution_count": 93,
     "metadata": {},
     "output_type": "execute_result"
    },
    {
     "data": {
      "image/png": "[encoded data removed]",
      "text/plain": [
       "<Figure size 1296x648 with 1 Axes>"
      ]
     },
     "metadata": {
      "needs_background": "light"
     },
     "output_type": "display_data"
    }
   ],
   "source": [
    "plt.figure(figsize=(18,9))\n",
    "sns.countplot(x='age',data = df1, hue='steroid', palette='GnBu')\n",
    "plt.title(\"The age group between 28-30 and 50-52 are taking steroids\")"
   ]
  },
  {
   "cell_type": "markdown",
   "metadata": {},
   "source": [
    "# Patients Consuming Antivirals Status: "
   ]
  },
  {
   "cell_type": "markdown",
   "metadata": {},
   "source": [
    "Antivirals is a cheif drug which is more effecient against the virus. "
   ]
  },
  {
   "cell_type": "code",
   "execution_count": 53,
   "metadata": {},
   "outputs": [
    {
     "name": "stderr",
     "output_type": "stream",
     "text": [
      "C:\\Users\\91979\\anaconda3\\lib\\site-packages\\seaborn\\_decorators.py:36: FutureWarning: Pass the following variable as a keyword arg: x. From version 0.12, the only valid positional argument will be `data`, and passing other arguments without an explicit keyword will result in an error or misinterpretation.\n",
      "  warnings.warn(\n",
      "C:\\Users\\91979\\anaconda3\\lib\\site-packages\\seaborn\\_decorators.py:36: FutureWarning: Pass the following variable as a keyword arg: x. From version 0.12, the only valid positional argument will be `data`, and passing other arguments without an explicit keyword will result in an error or misinterpretation.\n",
      "  warnings.warn(\n",
      "C:\\Users\\91979\\anaconda3\\lib\\site-packages\\seaborn\\_decorators.py:36: FutureWarning: Pass the following variable as a keyword arg: x. From version 0.12, the only valid positional argument will be `data`, and passing other arguments without an explicit keyword will result in an error or misinterpretation.\n",
      "  warnings.warn(\n"
     ]
    },
    {
     "data": {
      "image/png": "[encoded data removed]",
      "text/plain": [
       "<Figure size 1080x360 with 3 Axes>"
      ]
     },
     "metadata": {
      "needs_background": "light"
     },
     "output_type": "display_data"
    }
   ],
   "source": [
    "fig,ax = plt.subplots(1,3,figsize=[15,5])\n",
    "sns.countplot(df1['antivirals'], ax= ax[0]);\n",
    "sns.countplot(df1['antivirals'],hue = df1['class'],ax = ax[1]);\n",
    "sns.countplot(df1['antivirals'],hue = df1['sex'],ax = ax[2]);\n",
    "ax[0].set_title('antivirals Intake')\n",
    "ax[1].set_title('antivirals vs Class')\n",
    "ax[2].set_title('antivirals vs Sex')\n",
    "plt.tight_layout();"
   ]
  },
  {
   "cell_type": "code",
   "execution_count": 118,
   "metadata": {},
   "outputs": [
    {
     "data": {
      "text/plain": [
       "sex     antivirals\n",
       "female  False         85.611511\n",
       "        True          14.388489\n",
       "male    False         75.000000\n",
       "        True          25.000000\n",
       "Name: antivirals, dtype: float64"
      ]
     },
     "execution_count": 118,
     "metadata": {},
     "output_type": "execute_result"
    }
   ],
   "source": [
    "categorical_data.groupby(categorical_data['sex'])['antivirals'].value_counts(normalize=True)*100"
   ]
  },
  {
   "cell_type": "code",
   "execution_count": 94,
   "metadata": {},
   "outputs": [
    {
     "data": {
      "text/plain": [
       "Text(0.5, 1.0, 'The age group between 39-42 are the most to intake antivirals')"
      ]
     },
     "execution_count": 94,
     "metadata": {},
     "output_type": "execute_result"
    },
    {
     "data": {
      "image/png": "[encoded data removed]",
      "text/plain": [
       "<Figure size 1296x648 with 1 Axes>"
      ]
     },
     "metadata": {
      "needs_background": "light"
     },
     "output_type": "display_data"
    }
   ],
   "source": [
    "plt.figure(figsize=(18,9))\n",
    "sns.countplot(x='age',data = df1, hue='antivirals',palette='GnBu')\n",
    "plt.title(\"The age group between 39-42 are the most to intake antivirals\")"
   ]
  },
  {
   "cell_type": "markdown",
   "metadata": {},
   "source": [
    "# Patients Consuming Fatigue Current Status:"
   ]
  },
  {
   "cell_type": "markdown",
   "metadata": {},
   "source": [
    " - Fatigue is feeling overtired, with low energy and a strong desire to sleep that interferes with normal daily activities.\n",
    " - Fatigue can have causes that aren't due to underlying disease. Examples include lack of sleep, heavy exertion, jet lag, a large meal or ageing."
   ]
  },
  {
   "cell_type": "code",
   "execution_count": 56,
   "metadata": {},
   "outputs": [
    {
     "name": "stderr",
     "output_type": "stream",
     "text": [
      "C:\\Users\\91979\\anaconda3\\lib\\site-packages\\seaborn\\_decorators.py:36: FutureWarning: Pass the following variable as a keyword arg: x. From version 0.12, the only valid positional argument will be `data`, and passing other arguments without an explicit keyword will result in an error or misinterpretation.\n",
      "  warnings.warn(\n",
      "C:\\Users\\91979\\anaconda3\\lib\\site-packages\\seaborn\\_decorators.py:36: FutureWarning: Pass the following variable as a keyword arg: x. From version 0.12, the only valid positional argument will be `data`, and passing other arguments without an explicit keyword will result in an error or misinterpretation.\n",
      "  warnings.warn(\n",
      "C:\\Users\\91979\\anaconda3\\lib\\site-packages\\seaborn\\_decorators.py:36: FutureWarning: Pass the following variable as a keyword arg: x. From version 0.12, the only valid positional argument will be `data`, and passing other arguments without an explicit keyword will result in an error or misinterpretation.\n",
      "  warnings.warn(\n"
     ]
    },
    {
     "data": {
      "image/png": "[encoded data removed]",
      "text/plain": [
       "<Figure size 1080x360 with 3 Axes>"
      ]
     },
     "metadata": {
      "needs_background": "light"
     },
     "output_type": "display_data"
    }
   ],
   "source": [
    "fig,ax = plt.subplots(1,3,figsize=[15,5])\n",
    "sns.countplot(df1['fatigue'], ax= ax[0]);\n",
    "sns.countplot(df1['fatigue'],hue = df1['class'],ax = ax[1]);\n",
    "sns.countplot(df1['fatigue'],hue = df1['sex'],ax = ax[2]);\n",
    "ax[0].set_title('Fatigue Intake')\n",
    "ax[1].set_title('Fatigue vs Class')\n",
    "ax[2].set_title('Fatigue vs Sex')\n",
    "plt.tight_layout();"
   ]
  },
  {
   "cell_type": "code",
   "execution_count": 119,
   "metadata": {},
   "outputs": [
    {
     "data": {
      "text/plain": [
       "sex     fatigue\n",
       "female  True       63.309353\n",
       "        False      36.690647\n",
       "male    True       75.000000\n",
       "        False      25.000000\n",
       "Name: fatigue, dtype: float64"
      ]
     },
     "execution_count": 119,
     "metadata": {},
     "output_type": "execute_result"
    }
   ],
   "source": [
    "categorical_data.groupby(categorical_data['sex'])['fatigue'].value_counts(normalize=True)*100"
   ]
  },
  {
   "cell_type": "code",
   "execution_count": 95,
   "metadata": {},
   "outputs": [
    {
     "data": {
      "text/plain": [
       "Text(0.5, 1.0, 'Fatigue is extreamly more in the age group between 51 and low in 34-36')"
      ]
     },
     "execution_count": 95,
     "metadata": {},
     "output_type": "execute_result"
    },
    {
     "data": {
      "image/png": "[encoded data removed]",
      "text/plain": [
       "<Figure size 1296x648 with 1 Axes>"
      ]
     },
     "metadata": {
      "needs_background": "light"
     },
     "output_type": "display_data"
    }
   ],
   "source": [
    "plt.figure(figsize=(18,9))\n",
    "sns.countplot(x='age',data = df1, hue='fatigue', palette='GnBu')\n",
    "plt.title(\"Fatigue is extreamly more in the age group between 51 and low in 34-36\")"
   ]
  },
  {
   "cell_type": "markdown",
   "metadata": {},
   "source": [
    "# Patients Consuming Malaise Current Status:"
   ]
  },
  {
   "cell_type": "markdown",
   "metadata": {},
   "source": [
    " - A general sense of being unwell, often accompanied by fatigue, diffuse pain or lack of interest in activities. it is related to food intake of the patients.\n",
    " - The symptoms include headache, malaise, and fatigue. An infected person will feel a general malaise."
   ]
  },
  {
   "cell_type": "code",
   "execution_count": 55,
   "metadata": {},
   "outputs": [
    {
     "name": "stderr",
     "output_type": "stream",
     "text": [
      "C:\\Users\\91979\\anaconda3\\lib\\site-packages\\seaborn\\_decorators.py:36: FutureWarning: Pass the following variable as a keyword arg: x. From version 0.12, the only valid positional argument will be `data`, and passing other arguments without an explicit keyword will result in an error or misinterpretation.\n",
      "  warnings.warn(\n",
      "C:\\Users\\91979\\anaconda3\\lib\\site-packages\\seaborn\\_decorators.py:36: FutureWarning: Pass the following variable as a keyword arg: x. From version 0.12, the only valid positional argument will be `data`, and passing other arguments without an explicit keyword will result in an error or misinterpretation.\n",
      "  warnings.warn(\n",
      "C:\\Users\\91979\\anaconda3\\lib\\site-packages\\seaborn\\_decorators.py:36: FutureWarning: Pass the following variable as a keyword arg: x. From version 0.12, the only valid positional argument will be `data`, and passing other arguments without an explicit keyword will result in an error or misinterpretation.\n",
      "  warnings.warn(\n"
     ]
    },
    {
     "data": {
      "image/png": "[encoded data removed]",
      "text/plain": [
       "<Figure size 1080x360 with 3 Axes>"
      ]
     },
     "metadata": {
      "needs_background": "light"
     },
     "output_type": "display_data"
    }
   ],
   "source": [
    "fig,ax = plt.subplots(1,3,figsize=[15,5])\n",
    "sns.countplot(df1['malaise'], ax= ax[0]);\n",
    "sns.countplot(df1['malaise'],hue = df1['class'],ax = ax[1]);\n",
    "sns.countplot(df1['malaise'],hue = df1['sex'],ax = ax[2]);\n",
    "ax[0].set_title('Malaise Intake')\n",
    "ax[1].set_title('Malaise vs Class')\n",
    "ax[2].set_title('Malaise vs Sex')\n",
    "plt.tight_layout();"
   ]
  },
  {
   "cell_type": "code",
   "execution_count": 120,
   "metadata": {},
   "outputs": [
    {
     "data": {
      "text/plain": [
       "sex     malaise\n",
       "female  False      61.151079\n",
       "        True       38.848921\n",
       "male    False      56.250000\n",
       "        True       43.750000\n",
       "Name: malaise, dtype: float64"
      ]
     },
     "execution_count": 120,
     "metadata": {},
     "output_type": "execute_result"
    }
   ],
   "source": [
    "categorical_data.groupby(categorical_data['sex'])['malaise'].value_counts(normalize=True)*100"
   ]
  },
  {
   "cell_type": "code",
   "execution_count": 96,
   "metadata": {},
   "outputs": [
    {
     "data": {
      "text/plain": [
       "Text(0.5, 1.0, 'Malaise has the lowest counts in all age groups')"
      ]
     },
     "execution_count": 96,
     "metadata": {},
     "output_type": "execute_result"
    },
    {
     "data": {
      "image/png": "[encoded data removed]",
      "text/plain": [
       "<Figure size 1296x648 with 1 Axes>"
      ]
     },
     "metadata": {
      "needs_background": "light"
     },
     "output_type": "display_data"
    }
   ],
   "source": [
    "plt.figure(figsize=(18,9))\n",
    "sns.countplot(x='age',data = df1, hue='malaise',palette='GnBu')\n",
    "plt.title(\"Malaise has the lowest counts in all age groups\")"
   ]
  },
  {
   "cell_type": "markdown",
   "metadata": {},
   "source": [
    "# Patients Consuming Anorexia Current Status:"
   ]
  },
  {
   "cell_type": "markdown",
   "metadata": {},
   "source": [
    " - Anorexia is an eating disorder causing people to obsess about weight and what they eat.\n",
    " - Anorexia is characterised by a distorted body image, with an unwarranted fear of being overweight.\n",
    " - Symptoms include trying to maintain a below-normal weight through starvation or too much exercise."
   ]
  },
  {
   "cell_type": "code",
   "execution_count": 57,
   "metadata": {},
   "outputs": [
    {
     "name": "stderr",
     "output_type": "stream",
     "text": [
      "C:\\Users\\91979\\anaconda3\\lib\\site-packages\\seaborn\\_decorators.py:36: FutureWarning: Pass the following variable as a keyword arg: x. From version 0.12, the only valid positional argument will be `data`, and passing other arguments without an explicit keyword will result in an error or misinterpretation.\n",
      "  warnings.warn(\n",
      "C:\\Users\\91979\\anaconda3\\lib\\site-packages\\seaborn\\_decorators.py:36: FutureWarning: Pass the following variable as a keyword arg: x. From version 0.12, the only valid positional argument will be `data`, and passing other arguments without an explicit keyword will result in an error or misinterpretation.\n",
      "  warnings.warn(\n",
      "C:\\Users\\91979\\anaconda3\\lib\\site-packages\\seaborn\\_decorators.py:36: FutureWarning: Pass the following variable as a keyword arg: x. From version 0.12, the only valid positional argument will be `data`, and passing other arguments without an explicit keyword will result in an error or misinterpretation.\n",
      "  warnings.warn(\n"
     ]
    },
    {
     "data": {
      "image/png": "[encoded data removed]",
      "text/plain": [
       "<Figure size 1080x360 with 3 Axes>"
      ]
     },
     "metadata": {
      "needs_background": "light"
     },
     "output_type": "display_data"
    }
   ],
   "source": [
    "fig,ax = plt.subplots(1,3,figsize=[15,5])\n",
    "sns.countplot(df1['anorexia'], ax= ax[0]);\n",
    "sns.countplot(df1['anorexia'],hue = df1['class'],ax = ax[1]);\n",
    "sns.countplot(df1['anorexia'],hue = df1['sex'],ax = ax[2]);\n",
    "ax[0].set_title('Anoxeria Intake')\n",
    "ax[1].set_title('Anorexia vs Class')\n",
    "ax[2].set_title('Anorexia vs Sex')\n",
    "plt.tight_layout();"
   ]
  },
  {
   "cell_type": "code",
   "execution_count": 121,
   "metadata": {},
   "outputs": [
    {
     "data": {
      "text/plain": [
       "sex     anorexia\n",
       "female  False       79.136691\n",
       "        True        20.863309\n",
       "male    False       81.250000\n",
       "        True        18.750000\n",
       "Name: anorexia, dtype: float64"
      ]
     },
     "execution_count": 121,
     "metadata": {},
     "output_type": "execute_result"
    }
   ],
   "source": [
    "categorical_data.groupby(categorical_data['sex'])['anorexia'].value_counts(normalize=True)*100"
   ]
  },
  {
   "cell_type": "code",
   "execution_count": 97,
   "metadata": {},
   "outputs": [
    {
     "data": {
      "text/plain": [
       "Text(0.5, 1.0, 'Anorexia has the lowest counts in all age groups ')"
      ]
     },
     "execution_count": 97,
     "metadata": {},
     "output_type": "execute_result"
    },
    {
     "data": {
      "image/png": "[encoded data removed]",
      "text/plain": [
       "<Figure size 1296x648 with 1 Axes>"
      ]
     },
     "metadata": {
      "needs_background": "light"
     },
     "output_type": "display_data"
    }
   ],
   "source": [
    "plt.figure(figsize=(18,9))\n",
    "sns.countplot(x='age',data = df1, hue='anorexia', palette='GnBu')\n",
    "plt.title(\"Anorexia has the lowest counts in all age groups \")"
   ]
  },
  {
   "cell_type": "markdown",
   "metadata": {},
   "source": [
    "# Patients Consuming Liver_big Current Status:"
   ]
  },
  {
   "cell_type": "code",
   "execution_count": 59,
   "metadata": {},
   "outputs": [
    {
     "name": "stderr",
     "output_type": "stream",
     "text": [
      "C:\\Users\\91979\\anaconda3\\lib\\site-packages\\seaborn\\_decorators.py:36: FutureWarning: Pass the following variable as a keyword arg: x. From version 0.12, the only valid positional argument will be `data`, and passing other arguments without an explicit keyword will result in an error or misinterpretation.\n",
      "  warnings.warn(\n",
      "C:\\Users\\91979\\anaconda3\\lib\\site-packages\\seaborn\\_decorators.py:36: FutureWarning: Pass the following variable as a keyword arg: x. From version 0.12, the only valid positional argument will be `data`, and passing other arguments without an explicit keyword will result in an error or misinterpretation.\n",
      "  warnings.warn(\n",
      "C:\\Users\\91979\\anaconda3\\lib\\site-packages\\seaborn\\_decorators.py:36: FutureWarning: Pass the following variable as a keyword arg: x. From version 0.12, the only valid positional argument will be `data`, and passing other arguments without an explicit keyword will result in an error or misinterpretation.\n",
      "  warnings.warn(\n"
     ]
    },
    {
     "data": {
      "image/png": "[encoded data removed]",
      "text/plain": [
       "<Figure size 1080x360 with 3 Axes>"
      ]
     },
     "metadata": {
      "needs_background": "light"
     },
     "output_type": "display_data"
    }
   ],
   "source": [
    "fig,ax = plt.subplots(1,3,figsize=[15,5])\n",
    "sns.countplot(df1['liver_big'], ax= ax[0]);\n",
    "sns.countplot(df1['liver_big'],hue = df1['class'],ax = ax[1]);\n",
    "sns.countplot(df1['liver_big'],hue = df1['sex'],ax = ax[2]);\n",
    "ax[0].set_title('Liver Size')\n",
    "ax[1].set_title('liver_size vs Class')\n",
    "ax[2].set_title('liver_size vs Sex')\n",
    "plt.tight_layout();"
   ]
  },
  {
   "cell_type": "code",
   "execution_count": 122,
   "metadata": {},
   "outputs": [
    {
     "data": {
      "text/plain": [
       "sex     liver_big\n",
       "female  True         84.892086\n",
       "        False        15.107914\n",
       "male    True         75.000000\n",
       "        False        25.000000\n",
       "Name: liver_big, dtype: float64"
      ]
     },
     "execution_count": 122,
     "metadata": {},
     "output_type": "execute_result"
    }
   ],
   "source": [
    "categorical_data.groupby(categorical_data['sex'])['liver_big'].value_counts(normalize=True)*100"
   ]
  },
  {
   "cell_type": "code",
   "execution_count": 98,
   "metadata": {},
   "outputs": [
    {
     "data": {
      "text/plain": [
       "Text(0.5, 1.0, 'This is the most highest symptom and commonly seen in all age groups')"
      ]
     },
     "execution_count": 98,
     "metadata": {},
     "output_type": "execute_result"
    },
    {
     "data": {
      "image/png": "[encoded data removed]",
      "text/plain": [
       "<Figure size 1296x648 with 1 Axes>"
      ]
     },
     "metadata": {
      "needs_background": "light"
     },
     "output_type": "display_data"
    }
   ],
   "source": [
    "plt.figure(figsize=(18,9))\n",
    "sns.countplot(x='age',data = df1, hue='liver_big', palette='GnBu')\n",
    "plt.title(\"This is the most highest symptom and commonly seen in all age groups\")"
   ]
  },
  {
   "cell_type": "markdown",
   "metadata": {},
   "source": [
    "# Patients Consuming Liver_firm Current Status:"
   ]
  },
  {
   "cell_type": "code",
   "execution_count": 60,
   "metadata": {},
   "outputs": [
    {
     "name": "stderr",
     "output_type": "stream",
     "text": [
      "C:\\Users\\91979\\anaconda3\\lib\\site-packages\\seaborn\\_decorators.py:36: FutureWarning: Pass the following variable as a keyword arg: x. From version 0.12, the only valid positional argument will be `data`, and passing other arguments without an explicit keyword will result in an error or misinterpretation.\n",
      "  warnings.warn(\n",
      "C:\\Users\\91979\\anaconda3\\lib\\site-packages\\seaborn\\_decorators.py:36: FutureWarning: Pass the following variable as a keyword arg: x. From version 0.12, the only valid positional argument will be `data`, and passing other arguments without an explicit keyword will result in an error or misinterpretation.\n",
      "  warnings.warn(\n",
      "C:\\Users\\91979\\anaconda3\\lib\\site-packages\\seaborn\\_decorators.py:36: FutureWarning: Pass the following variable as a keyword arg: x. From version 0.12, the only valid positional argument will be `data`, and passing other arguments without an explicit keyword will result in an error or misinterpretation.\n",
      "  warnings.warn(\n"
     ]
    },
    {
     "data": {
      "image/png": "[encoded data removed]",
      "text/plain": [
       "<Figure size 1080x360 with 3 Axes>"
      ]
     },
     "metadata": {
      "needs_background": "light"
     },
     "output_type": "display_data"
    }
   ],
   "source": [
    "fig,ax = plt.subplots(1,3,figsize=[15,5])\n",
    "sns.countplot(df1['liver_firm'], ax= ax[0]);\n",
    "sns.countplot(df1['liver_firm'],hue = df1['class'],ax = ax[1]);\n",
    "sns.countplot(df1['liver_firm'],hue = df1['sex'],ax = ax[2]);\n",
    "ax[0].set_title('Liver Firm')\n",
    "ax[1].set_title('Liver_firm vs Class')\n",
    "ax[2].set_title('Liver_firm vs Sex')\n",
    "plt.tight_layout();"
   ]
  },
  {
   "cell_type": "code",
   "execution_count": 123,
   "metadata": {},
   "outputs": [
    {
     "data": {
      "text/plain": [
       "sex     liver_firm\n",
       "female  False         54.676259\n",
       "        True          45.323741\n",
       "male    False         50.000000\n",
       "        True          50.000000\n",
       "Name: liver_firm, dtype: float64"
      ]
     },
     "execution_count": 123,
     "metadata": {},
     "output_type": "execute_result"
    }
   ],
   "source": [
    "categorical_data.groupby(categorical_data['sex'])['liver_firm'].value_counts(normalize=True)*100"
   ]
  },
  {
   "cell_type": "code",
   "execution_count": 99,
   "metadata": {},
   "outputs": [
    {
     "data": {
      "text/plain": [
       "Text(0.5, 1.0, 'This symptom is commonly seen in age group between(34-39)')"
      ]
     },
     "execution_count": 99,
     "metadata": {},
     "output_type": "execute_result"
    },
    {
     "data": {
      "image/png": "[encoded data removed]",
      "text/plain": [
       "<Figure size 1296x648 with 1 Axes>"
      ]
     },
     "metadata": {
      "needs_background": "light"
     },
     "output_type": "display_data"
    }
   ],
   "source": [
    "plt.figure(figsize=(18,9))\n",
    "sns.countplot(x='age',data = df1, hue='liver_firm', palette='GnBu')\n",
    "plt.title(\"This symptom is commonly seen in age group between(34-39)\")"
   ]
  },
  {
   "cell_type": "markdown",
   "metadata": {},
   "source": [
    "# Patients Consuming Spleen Palpable Current Status:"
   ]
  },
  {
   "cell_type": "markdown",
   "metadata": {},
   "source": [
    " - Spleen = The spleen is an organ found in virtually all vertebrates. Similar in structure to a large lymph node, it acts primarily as a blood filter.\n",
    " - Palpable = capable of being touched or felt.\n",
    " - Spleen Palpable = It is an organ found in the vertibrates and checking if there are any symptoms in the organs."
   ]
  },
  {
   "cell_type": "code",
   "execution_count": 61,
   "metadata": {},
   "outputs": [
    {
     "name": "stderr",
     "output_type": "stream",
     "text": [
      "C:\\Users\\91979\\anaconda3\\lib\\site-packages\\seaborn\\_decorators.py:36: FutureWarning: Pass the following variable as a keyword arg: x. From version 0.12, the only valid positional argument will be `data`, and passing other arguments without an explicit keyword will result in an error or misinterpretation.\n",
      "  warnings.warn(\n",
      "C:\\Users\\91979\\anaconda3\\lib\\site-packages\\seaborn\\_decorators.py:36: FutureWarning: Pass the following variable as a keyword arg: x. From version 0.12, the only valid positional argument will be `data`, and passing other arguments without an explicit keyword will result in an error or misinterpretation.\n",
      "  warnings.warn(\n",
      "C:\\Users\\91979\\anaconda3\\lib\\site-packages\\seaborn\\_decorators.py:36: FutureWarning: Pass the following variable as a keyword arg: x. From version 0.12, the only valid positional argument will be `data`, and passing other arguments without an explicit keyword will result in an error or misinterpretation.\n",
      "  warnings.warn(\n"
     ]
    },
    {
     "data": {
      "image/png": "[encoded data removed]",
      "text/plain": [
       "<Figure size 1080x360 with 3 Axes>"
      ]
     },
     "metadata": {
      "needs_background": "light"
     },
     "output_type": "display_data"
    }
   ],
   "source": [
    "fig,ax = plt.subplots(1,3,figsize=[15,5])\n",
    "sns.countplot(df1['spleen_palpable'], ax= ax[0]);\n",
    "sns.countplot(df1['spleen_palpable'],hue = df1['class'],ax = ax[1]);\n",
    "sns.countplot(df1['spleen_palpable'],hue = df1['sex'],ax = ax[2]);\n",
    "ax[0].set_title('Spleen Palpable')\n",
    "ax[1].set_title('Spleen Palpable vs Class')\n",
    "ax[2].set_title('Spleen Palpable vs Sex')\n",
    "plt.tight_layout();"
   ]
  },
  {
   "cell_type": "code",
   "execution_count": 124,
   "metadata": {},
   "outputs": [
    {
     "data": {
      "text/plain": [
       "sex     spleen_palpable\n",
       "female  False              81.294964\n",
       "        True               18.705036\n",
       "male    False              75.000000\n",
       "        True               25.000000\n",
       "Name: spleen_palpable, dtype: float64"
      ]
     },
     "execution_count": 124,
     "metadata": {},
     "output_type": "execute_result"
    }
   ],
   "source": [
    "categorical_data.groupby(categorical_data['sex'])['spleen_palpable'].value_counts(normalize=True)*100"
   ]
  },
  {
   "cell_type": "code",
   "execution_count": 100,
   "metadata": {},
   "outputs": [
    {
     "data": {
      "text/plain": [
       "Text(0.5, 1.0, 'Most of the patients does not have this symptoms')"
      ]
     },
     "execution_count": 100,
     "metadata": {},
     "output_type": "execute_result"
    },
    {
     "data": {
      "image/png": "[encoded data removed]",
      "text/plain": [
       "<Figure size 1296x648 with 1 Axes>"
      ]
     },
     "metadata": {
      "needs_background": "light"
     },
     "output_type": "display_data"
    }
   ],
   "source": [
    "plt.figure(figsize=(18,9))\n",
    "sns.countplot(x='age',data = df1, hue='spleen_palpable', palette='GnBu')\n",
    "plt.title(\"Most of the patients does not have this symptoms\")"
   ]
  },
  {
   "cell_type": "markdown",
   "metadata": {},
   "source": [
    "# Patients Consuming Spiders Status:"
   ]
  },
  {
   "cell_type": "markdown",
   "metadata": {},
   "source": [
    "A spider nevus is a collection of small, dilated arterioles (blood vessels) clustered very close to the surface of the skin. The cluster of vessels is web-like, with a central spot and radiating vessels and this is most commonly seen in women during pregnancy."
   ]
  },
  {
   "cell_type": "code",
   "execution_count": 62,
   "metadata": {},
   "outputs": [
    {
     "name": "stderr",
     "output_type": "stream",
     "text": [
      "C:\\Users\\91979\\anaconda3\\lib\\site-packages\\seaborn\\_decorators.py:36: FutureWarning: Pass the following variable as a keyword arg: x. From version 0.12, the only valid positional argument will be `data`, and passing other arguments without an explicit keyword will result in an error or misinterpretation.\n",
      "  warnings.warn(\n",
      "C:\\Users\\91979\\anaconda3\\lib\\site-packages\\seaborn\\_decorators.py:36: FutureWarning: Pass the following variable as a keyword arg: x. From version 0.12, the only valid positional argument will be `data`, and passing other arguments without an explicit keyword will result in an error or misinterpretation.\n",
      "  warnings.warn(\n",
      "C:\\Users\\91979\\anaconda3\\lib\\site-packages\\seaborn\\_decorators.py:36: FutureWarning: Pass the following variable as a keyword arg: x. From version 0.12, the only valid positional argument will be `data`, and passing other arguments without an explicit keyword will result in an error or misinterpretation.\n",
      "  warnings.warn(\n"
     ]
    },
    {
     "data": {
      "image/png": "[encoded data removed]",
      "text/plain": [
       "<Figure size 1080x360 with 3 Axes>"
      ]
     },
     "metadata": {
      "needs_background": "light"
     },
     "output_type": "display_data"
    }
   ],
   "source": [
    "fig,ax = plt.subplots(1,3,figsize=[15,5])\n",
    "sns.countplot(df1['spiders'], ax= ax[0]);\n",
    "sns.countplot(df1['spiders'],hue = df1['class'],ax = ax[1]);\n",
    "sns.countplot(df1['spiders'],hue = df1['sex'],ax = ax[2]);\n",
    "ax[0].set_title('Spiders')\n",
    "ax[1].set_title('Spiders vs Class')\n",
    "ax[2].set_title('Spiders vs Sex')\n",
    "plt.tight_layout();"
   ]
  },
  {
   "cell_type": "code",
   "execution_count": 125,
   "metadata": {},
   "outputs": [
    {
     "data": {
      "text/plain": [
       "sex     spiders\n",
       "female  False      66.906475\n",
       "        True       33.093525\n",
       "male    False      62.500000\n",
       "        True       37.500000\n",
       "Name: spiders, dtype: float64"
      ]
     },
     "execution_count": 125,
     "metadata": {},
     "output_type": "execute_result"
    }
   ],
   "source": [
    "categorical_data.groupby(categorical_data['sex'])['spiders'].value_counts(normalize=True)*100"
   ]
  },
  {
   "cell_type": "code",
   "execution_count": 101,
   "metadata": {},
   "outputs": [
    {
     "data": {
      "text/plain": [
       "Text(0.5, 1.0, 'Most of the patients does not have this symptoms')"
      ]
     },
     "execution_count": 101,
     "metadata": {},
     "output_type": "execute_result"
    },
    {
     "data": {
      "image/png": "[encoded data removed]",
      "text/plain": [
       "<Figure size 1296x648 with 1 Axes>"
      ]
     },
     "metadata": {
      "needs_background": "light"
     },
     "output_type": "display_data"
    }
   ],
   "source": [
    "plt.figure(figsize=(18,9))\n",
    "sns.countplot(x='age',data = df1, hue='spiders', palette='GnBu')\n",
    "plt.title(\"Most of the patients does not have this symptoms\")"
   ]
  },
  {
   "cell_type": "markdown",
   "metadata": {},
   "source": [
    "# Patients Consuming Ascites Status:"
   ]
  },
  {
   "cell_type": "markdown",
   "metadata": {},
   "source": [
    "Ascites is a abdominal swelling caused by accumulation of fluid, most often related to liver disease."
   ]
  },
  {
   "cell_type": "code",
   "execution_count": 63,
   "metadata": {},
   "outputs": [
    {
     "name": "stderr",
     "output_type": "stream",
     "text": [
      "C:\\Users\\91979\\anaconda3\\lib\\site-packages\\seaborn\\_decorators.py:36: FutureWarning: Pass the following variable as a keyword arg: x. From version 0.12, the only valid positional argument will be `data`, and passing other arguments without an explicit keyword will result in an error or misinterpretation.\n",
      "  warnings.warn(\n",
      "C:\\Users\\91979\\anaconda3\\lib\\site-packages\\seaborn\\_decorators.py:36: FutureWarning: Pass the following variable as a keyword arg: x. From version 0.12, the only valid positional argument will be `data`, and passing other arguments without an explicit keyword will result in an error or misinterpretation.\n",
      "  warnings.warn(\n",
      "C:\\Users\\91979\\anaconda3\\lib\\site-packages\\seaborn\\_decorators.py:36: FutureWarning: Pass the following variable as a keyword arg: x. From version 0.12, the only valid positional argument will be `data`, and passing other arguments without an explicit keyword will result in an error or misinterpretation.\n",
      "  warnings.warn(\n"
     ]
    },
    {
     "data": {
      "image/png": "[encoded data removed]",
      "text/plain": [
       "<Figure size 1080x360 with 3 Axes>"
      ]
     },
     "metadata": {
      "needs_background": "light"
     },
     "output_type": "display_data"
    }
   ],
   "source": [
    "fig,ax = plt.subplots(1,3,figsize=[15,5])\n",
    "sns.countplot(df1['ascites'], ax= ax[0]);\n",
    "sns.countplot(df1['ascites'],hue = df1['class'],ax = ax[1]);\n",
    "sns.countplot(df1['ascites'],hue = df1['sex'],ax = ax[2]);\n",
    "ax[0].set_title('Ascites')\n",
    "ax[1].set_title('Ascites vs Class')\n",
    "ax[2].set_title('Ascites vs Sex')\n",
    "plt.tight_layout();"
   ]
  },
  {
   "cell_type": "code",
   "execution_count": 126,
   "metadata": {},
   "outputs": [
    {
     "data": {
      "text/plain": [
       "sex     ascites\n",
       "female  False       84.892086\n",
       "        True        15.107914\n",
       "male    False      100.000000\n",
       "Name: ascites, dtype: float64"
      ]
     },
     "execution_count": 126,
     "metadata": {},
     "output_type": "execute_result"
    }
   ],
   "source": [
    "categorical_data.groupby(categorical_data['sex'])['ascites'].value_counts(normalize=True)*100"
   ]
  },
  {
   "cell_type": "code",
   "execution_count": 102,
   "metadata": {},
   "outputs": [
    {
     "data": {
      "text/plain": [
       "Text(0.5, 1.0, 'Most of the patients in all age groups does not have this symptoms')"
      ]
     },
     "execution_count": 102,
     "metadata": {},
     "output_type": "execute_result"
    },
    {
     "data": {
      "image/png": "[encoded data removed]",
      "text/plain": [
       "<Figure size 1296x648 with 1 Axes>"
      ]
     },
     "metadata": {
      "needs_background": "light"
     },
     "output_type": "display_data"
    }
   ],
   "source": [
    "plt.figure(figsize=(18,9))\n",
    "sns.countplot(x='age',data = df1, hue='ascites', palette='GnBu')\n",
    "plt.title(\"Most of the patients in all age groups does not have this symptoms\")"
   ]
  },
  {
   "cell_type": "markdown",
   "metadata": {},
   "source": [
    "# Patients Consuming Varices Status:"
   ]
  },
  {
   "cell_type": "markdown",
   "metadata": {},
   "source": [
    "Varices is a abnormal veins in the lower part of the tube running from the throat to the stomach."
   ]
  },
  {
   "cell_type": "code",
   "execution_count": 65,
   "metadata": {},
   "outputs": [
    {
     "name": "stderr",
     "output_type": "stream",
     "text": [
      "C:\\Users\\91979\\anaconda3\\lib\\site-packages\\seaborn\\_decorators.py:36: FutureWarning: Pass the following variable as a keyword arg: x. From version 0.12, the only valid positional argument will be `data`, and passing other arguments without an explicit keyword will result in an error or misinterpretation.\n",
      "  warnings.warn(\n",
      "C:\\Users\\91979\\anaconda3\\lib\\site-packages\\seaborn\\_decorators.py:36: FutureWarning: Pass the following variable as a keyword arg: x. From version 0.12, the only valid positional argument will be `data`, and passing other arguments without an explicit keyword will result in an error or misinterpretation.\n",
      "  warnings.warn(\n",
      "C:\\Users\\91979\\anaconda3\\lib\\site-packages\\seaborn\\_decorators.py:36: FutureWarning: Pass the following variable as a keyword arg: x. From version 0.12, the only valid positional argument will be `data`, and passing other arguments without an explicit keyword will result in an error or misinterpretation.\n",
      "  warnings.warn(\n"
     ]
    },
    {
     "data": {
      "image/png": "[encoded data removed]",
      "text/plain": [
       "<Figure size 1080x360 with 3 Axes>"
      ]
     },
     "metadata": {
      "needs_background": "light"
     },
     "output_type": "display_data"
    }
   ],
   "source": [
    "fig,ax = plt.subplots(1,3,figsize=[15,5])\n",
    "sns.countplot(df1['varices'], ax= ax[0]);\n",
    "sns.countplot(df1['varices'],hue = df1['class'],ax = ax[1]);\n",
    "sns.countplot(df1['varices'],hue = df1['sex'],ax = ax[2]);\n",
    "ax[0].set_title('Varices')\n",
    "ax[1].set_title('Varices vs Class')\n",
    "ax[2].set_title('Varices vs Sex')\n",
    "plt.tight_layout();"
   ]
  },
  {
   "cell_type": "code",
   "execution_count": 128,
   "metadata": {},
   "outputs": [
    {
     "data": {
      "text/plain": [
       "sex     varices\n",
       "female  False      85.611511\n",
       "        True       14.388489\n",
       "male    False      87.500000\n",
       "        True       12.500000\n",
       "Name: varices, dtype: float64"
      ]
     },
     "execution_count": 128,
     "metadata": {},
     "output_type": "execute_result"
    }
   ],
   "source": [
    "categorical_data.groupby(categorical_data['sex'])['varices'].value_counts(normalize=True)*100"
   ]
  },
  {
   "cell_type": "code",
   "execution_count": 103,
   "metadata": {},
   "outputs": [
    {
     "data": {
      "text/plain": [
       "Text(0.5, 1.0, 'Most of the patients does not have this symptoms')"
      ]
     },
     "execution_count": 103,
     "metadata": {},
     "output_type": "execute_result"
    },
    {
     "data": {
      "image/png": "[encoded data removed]",
      "text/plain": [
       "<Figure size 1296x648 with 1 Axes>"
      ]
     },
     "metadata": {
      "needs_background": "light"
     },
     "output_type": "display_data"
    }
   ],
   "source": [
    "plt.figure(figsize=(18,9))\n",
    "sns.countplot(x='age',data = df1, hue='varices', palette='GnBu')\n",
    "plt.title(\"Most of the patients does not have this symptoms\")"
   ]
  },
  {
   "cell_type": "code",
   "execution_count": 30,
   "metadata": {},
   "outputs": [
    {
     "data": {
      "text/html": [
       "<div>\n",
       "<style scoped>\n",
       "    .dataframe tbody tr th:only-of-type {\n",
       "        vertical-align: middle;\n",
       "    }\n",
       "\n",
       "    .dataframe tbody tr th {\n",
       "        vertical-align: top;\n",
       "    }\n",
       "\n",
       "    .dataframe thead th {\n",
       "        text-align: right;\n",
       "    }\n",
       "</style>\n",
       "<table border=\"1\" class=\"dataframe\">\n",
       "  <thead>\n",
       "    <tr style=\"text-align: right;\">\n",
       "      <th></th>\n",
       "      <th>age</th>\n",
       "      <th>bilirubin</th>\n",
       "      <th>alk_phosphate</th>\n",
       "      <th>sgot</th>\n",
       "      <th>albumin</th>\n",
       "      <th>protime</th>\n",
       "    </tr>\n",
       "  </thead>\n",
       "  <tbody>\n",
       "    <tr>\n",
       "      <th>count</th>\n",
       "      <td>155.000000</td>\n",
       "      <td>155.000000</td>\n",
       "      <td>155.000000</td>\n",
       "      <td>155.000000</td>\n",
       "      <td>155.00000</td>\n",
       "      <td>155.000000</td>\n",
       "    </tr>\n",
       "    <tr>\n",
       "      <th>mean</th>\n",
       "      <td>41.200000</td>\n",
       "      <td>1.393548</td>\n",
       "      <td>101.270968</td>\n",
       "      <td>86.412903</td>\n",
       "      <td>3.91871</td>\n",
       "      <td>55.270968</td>\n",
       "    </tr>\n",
       "    <tr>\n",
       "      <th>std</th>\n",
       "      <td>12.565878</td>\n",
       "      <td>1.200578</td>\n",
       "      <td>47.340204</td>\n",
       "      <td>89.370293</td>\n",
       "      <td>0.76987</td>\n",
       "      <td>22.903329</td>\n",
       "    </tr>\n",
       "    <tr>\n",
       "      <th>min</th>\n",
       "      <td>7.000000</td>\n",
       "      <td>0.300000</td>\n",
       "      <td>26.000000</td>\n",
       "      <td>14.000000</td>\n",
       "      <td>2.10000</td>\n",
       "      <td>0.000000</td>\n",
       "    </tr>\n",
       "    <tr>\n",
       "      <th>25%</th>\n",
       "      <td>32.000000</td>\n",
       "      <td>0.700000</td>\n",
       "      <td>76.000000</td>\n",
       "      <td>31.500000</td>\n",
       "      <td>3.50000</td>\n",
       "      <td>35.000000</td>\n",
       "    </tr>\n",
       "    <tr>\n",
       "      <th>50%</th>\n",
       "      <td>39.000000</td>\n",
       "      <td>1.000000</td>\n",
       "      <td>85.000000</td>\n",
       "      <td>58.000000</td>\n",
       "      <td>4.00000</td>\n",
       "      <td>50.000000</td>\n",
       "    </tr>\n",
       "    <tr>\n",
       "      <th>75%</th>\n",
       "      <td>50.000000</td>\n",
       "      <td>1.500000</td>\n",
       "      <td>119.500000</td>\n",
       "      <td>105.500000</td>\n",
       "      <td>4.20000</td>\n",
       "      <td>71.000000</td>\n",
       "    </tr>\n",
       "    <tr>\n",
       "      <th>max</th>\n",
       "      <td>78.000000</td>\n",
       "      <td>8.000000</td>\n",
       "      <td>295.000000</td>\n",
       "      <td>648.000000</td>\n",
       "      <td>6.40000</td>\n",
       "      <td>100.000000</td>\n",
       "    </tr>\n",
       "  </tbody>\n",
       "</table>\n",
       "</div>"
      ],
      "text/plain": [
       "              age   bilirubin  alk_phosphate        sgot    albumin  \\\n",
       "count  155.000000  155.000000     155.000000  155.000000  155.00000   \n",
       "mean    41.200000    1.393548     101.270968   86.412903    3.91871   \n",
       "std     12.565878    1.200578      47.340204   89.370293    0.76987   \n",
       "min      7.000000    0.300000      26.000000   14.000000    2.10000   \n",
       "25%     32.000000    0.700000      76.000000   31.500000    3.50000   \n",
       "50%     39.000000    1.000000      85.000000   58.000000    4.00000   \n",
       "75%     50.000000    1.500000     119.500000  105.500000    4.20000   \n",
       "max     78.000000    8.000000     295.000000  648.000000    6.40000   \n",
       "\n",
       "          protime  \n",
       "count  155.000000  \n",
       "mean    55.270968  \n",
       "std     22.903329  \n",
       "min      0.000000  \n",
       "25%     35.000000  \n",
       "50%     50.000000  \n",
       "75%     71.000000  \n",
       "max    100.000000  "
      ]
     },
     "execution_count": 30,
     "metadata": {},
     "output_type": "execute_result"
    }
   ],
   "source": [
    "df1.describe()"
   ]
  },
  {
   "cell_type": "code",
   "execution_count": 31,
   "metadata": {},
   "outputs": [
    {
     "data": {
      "text/plain": [
       "age                0\n",
       "sex                0\n",
       "steroid            0\n",
       "antivirals         0\n",
       "fatigue            0\n",
       "malaise            0\n",
       "anorexia           0\n",
       "liver_big          0\n",
       "liver_firm         0\n",
       "spleen_palpable    0\n",
       "spiders            0\n",
       "ascites            0\n",
       "varices            0\n",
       "bilirubin          0\n",
       "alk_phosphate      0\n",
       "sgot               0\n",
       "albumin            0\n",
       "protime            0\n",
       "histology          0\n",
       "class              0\n",
       "dtype: int64"
      ]
     },
     "execution_count": 31,
     "metadata": {},
     "output_type": "execute_result"
    }
   ],
   "source": [
    "df1.isnull().sum()"
   ]
  },
  {
   "cell_type": "markdown",
   "metadata": {},
   "source": [
    "The numerical columns are seperated from the imputed data and each numerical columns are plotted in distplot to check the skewness of the data."
   ]
  },
  {
   "cell_type": "code",
   "execution_count": 32,
   "metadata": {},
   "outputs": [
    {
     "name": "stderr",
     "output_type": "stream",
     "text": [
      "C:\\Users\\91979\\anaconda3\\lib\\site-packages\\seaborn\\distributions.py:2551: FutureWarning: `distplot` is a deprecated function and will be removed in a future version. Please adapt your code to use either `displot` (a figure-level function with similar flexibility) or `histplot` (an axes-level function for histograms).\n",
      "  warnings.warn(msg, FutureWarning)\n"
     ]
    },
    {
     "data": {
      "text/plain": [
       "<AxesSubplot:xlabel='age', ylabel='Density'>"
      ]
     },
     "execution_count": 32,
     "metadata": {},
     "output_type": "execute_result"
    },
    {
     "data": {
      "image/png": "[encoded data removed]",
      "text/plain": [
       "<Figure size 432x288 with 1 Axes>"
      ]
     },
     "metadata": {
      "needs_background": "light"
     },
     "output_type": "display_data"
    }
   ],
   "source": [
    "sns.distplot(df1['age'],kde=True)"
   ]
  },
  {
   "cell_type": "markdown",
   "metadata": {},
   "source": [
    "# Bilirubin:"
   ]
  },
  {
   "cell_type": "markdown",
   "metadata": {},
   "source": [
    " - Bilirubin is a yellow compound that occurs in the normal catabolic pathway that breaks down heme in vertebrates.\n",
    " \n",
    "Symptoms:\n",
    " - You can have mildly high bilirubin and have no symptoms at all. Or, with moderately high bilirubin, you may only have jaundice, a yellow cast to your eyes and skin."
   ]
  },
  {
   "cell_type": "code",
   "execution_count": 33,
   "metadata": {},
   "outputs": [
    {
     "name": "stderr",
     "output_type": "stream",
     "text": [
      "C:\\Users\\91979\\anaconda3\\lib\\site-packages\\seaborn\\distributions.py:2551: FutureWarning: `distplot` is a deprecated function and will be removed in a future version. Please adapt your code to use either `displot` (a figure-level function with similar flexibility) or `histplot` (an axes-level function for histograms).\n",
      "  warnings.warn(msg, FutureWarning)\n"
     ]
    },
    {
     "data": {
      "text/plain": [
       "<AxesSubplot:xlabel='bilirubin', ylabel='Density'>"
      ]
     },
     "execution_count": 33,
     "metadata": {},
     "output_type": "execute_result"
    },
    {
     "data": {
      "image/png": "[encoded data removed]",
      "text/plain": [
       "<Figure size 432x288 with 1 Axes>"
      ]
     },
     "metadata": {
      "needs_background": "light"
     },
     "output_type": "display_data"
    }
   ],
   "source": [
    "sns.distplot(df1['bilirubin'],kde=True)"
   ]
  },
  {
   "cell_type": "markdown",
   "metadata": {},
   "source": [
    "# Alkaline Phosphate:"
   ]
  },
  {
   "cell_type": "markdown",
   "metadata": {},
   "source": [
    " - Alkaline phosphatase (ALP) is an enzyme in a person’s blood that helps break down proteins. The body uses ALP for a wide range of processes, and it plays a particularly important role in liver function and bone development.\n",
    " \n",
    "Symptoms:\n",
    " - You have alkaline phosphatase throughout your body, including your liver, digestive system, kidneys, and bones.If you show signs of liver disease or a bone disorder, your doctor may order an alkaline phosphatase (ALP) test to measure the amount of the enzyme in your blood and help in diagnosing the problem."
   ]
  },
  {
   "cell_type": "code",
   "execution_count": 34,
   "metadata": {},
   "outputs": [
    {
     "name": "stderr",
     "output_type": "stream",
     "text": [
      "C:\\Users\\91979\\anaconda3\\lib\\site-packages\\seaborn\\distributions.py:2551: FutureWarning: `distplot` is a deprecated function and will be removed in a future version. Please adapt your code to use either `displot` (a figure-level function with similar flexibility) or `histplot` (an axes-level function for histograms).\n",
      "  warnings.warn(msg, FutureWarning)\n"
     ]
    },
    {
     "data": {
      "text/plain": [
       "<AxesSubplot:xlabel='alk_phosphate', ylabel='Density'>"
      ]
     },
     "execution_count": 34,
     "metadata": {},
     "output_type": "execute_result"
    },
    {
     "data": {
      "image/png": "[encoded data removed]",
      "text/plain": [
       "<Figure size 432x288 with 1 Axes>"
      ]
     },
     "metadata": {
      "needs_background": "light"
     },
     "output_type": "display_data"
    }
   ],
   "source": [
    "sns.distplot(df1['alk_phosphate'],kde=True)"
   ]
  },
  {
   "cell_type": "markdown",
   "metadata": {},
   "source": [
    "# SGOT - (serum glutamic-oxaloacetic transaminas)"
   ]
  },
  {
   "cell_type": "markdown",
   "metadata": {},
   "source": [
    "The SGOT test is a blood test that's part of a liver profile. It measures one of two liver enzymes, this enzyme is usually called AST, which stands for aspartate aminotransferase. An SGOT test (or AST test) evaluates how much of the liver enzyme is in the blood."
   ]
  },
  {
   "cell_type": "code",
   "execution_count": 35,
   "metadata": {},
   "outputs": [
    {
     "name": "stderr",
     "output_type": "stream",
     "text": [
      "C:\\Users\\91979\\anaconda3\\lib\\site-packages\\seaborn\\distributions.py:2551: FutureWarning: `distplot` is a deprecated function and will be removed in a future version. Please adapt your code to use either `displot` (a figure-level function with similar flexibility) or `histplot` (an axes-level function for histograms).\n",
      "  warnings.warn(msg, FutureWarning)\n"
     ]
    },
    {
     "data": {
      "text/plain": [
       "<AxesSubplot:xlabel='sgot', ylabel='Density'>"
      ]
     },
     "execution_count": 35,
     "metadata": {},
     "output_type": "execute_result"
    },
    {
     "data": {
      "image/png": "[encoded data removed]",
      "text/plain": [
       "<Figure size 432x288 with 1 Axes>"
      ]
     },
     "metadata": {
      "needs_background": "light"
     },
     "output_type": "display_data"
    }
   ],
   "source": [
    "sns.distplot(df1['sgot'],kde=True)"
   ]
  },
  {
   "cell_type": "markdown",
   "metadata": {},
   "source": [
    "# Albumin:"
   ]
  },
  {
   "cell_type": "markdown",
   "metadata": {},
   "source": [
    "Albumin is a protein made by your liver. Albumin helps keep fluid in your bloodstream so it doesn't leak into other tissues.It makes up about 60% of the total protein in the blood and plays many roles. This test measures the level of albumin in the blood.\n",
    "\n",
    "Albumin keeps fluid from leaking out of blood vessels, nourishes tissues, and transports hormones, vitamins, drugs, and substances like calcium throughout the body."
   ]
  },
  {
   "cell_type": "code",
   "execution_count": 36,
   "metadata": {},
   "outputs": [
    {
     "name": "stderr",
     "output_type": "stream",
     "text": [
      "C:\\Users\\91979\\anaconda3\\lib\\site-packages\\seaborn\\distributions.py:2551: FutureWarning: `distplot` is a deprecated function and will be removed in a future version. Please adapt your code to use either `displot` (a figure-level function with similar flexibility) or `histplot` (an axes-level function for histograms).\n",
      "  warnings.warn(msg, FutureWarning)\n"
     ]
    },
    {
     "data": {
      "text/plain": [
       "<AxesSubplot:xlabel='albumin', ylabel='Density'>"
      ]
     },
     "execution_count": 36,
     "metadata": {},
     "output_type": "execute_result"
    },
    {
     "data": {
      "image/png": "[encoded data removed]",
      "text/plain": [
       "<Figure size 432x288 with 1 Axes>"
      ]
     },
     "metadata": {
      "needs_background": "light"
     },
     "output_type": "display_data"
    }
   ],
   "source": [
    "sns.distplot(df1['albumin'],kde=True)"
   ]
  },
  {
   "cell_type": "markdown",
   "metadata": {},
   "source": [
    "# Protime:"
   ]
  },
  {
   "cell_type": "markdown",
   "metadata": {},
   "source": [
    "Prothrombin time (PT) is a blood test that measures how long it takes blood to clot. A prothrombin time test can be used to check for bleeding problems. PT is also used to check whether medicine to prevent blood clots is working."
   ]
  },
  {
   "cell_type": "code",
   "execution_count": 37,
   "metadata": {},
   "outputs": [
    {
     "name": "stderr",
     "output_type": "stream",
     "text": [
      "C:\\Users\\91979\\anaconda3\\lib\\site-packages\\seaborn\\distributions.py:2551: FutureWarning: `distplot` is a deprecated function and will be removed in a future version. Please adapt your code to use either `displot` (a figure-level function with similar flexibility) or `histplot` (an axes-level function for histograms).\n",
      "  warnings.warn(msg, FutureWarning)\n"
     ]
    },
    {
     "data": {
      "text/plain": [
       "<AxesSubplot:xlabel='protime', ylabel='Density'>"
      ]
     },
     "execution_count": 37,
     "metadata": {},
     "output_type": "execute_result"
    },
    {
     "data": {
      "image/png": "[encoded data removed]",
      "text/plain": [
       "<Figure size 432x288 with 1 Axes>"
      ]
     },
     "metadata": {
      "needs_background": "light"
     },
     "output_type": "display_data"
    }
   ],
   "source": [
    "sns.distplot(df1['protime'],kde=True)"
   ]
  },
  {
   "cell_type": "markdown",
   "metadata": {},
   "source": [
    "None of the numerical variables follows normal distribution so the total distribution is distorted."
   ]
  },
  {
   "cell_type": "markdown",
   "metadata": {},
   "source": [
    "# Jointplots for Numerical variables:"
   ]
  },
  {
   "cell_type": "markdown",
   "metadata": {},
   "source": [
    "This jointplot shows the relationship between two variables. Both variables having decimal points, here relationship between bilirubin and albumine is seen because both of them are fluid released by the body to execute toxins."
   ]
  },
  {
   "cell_type": "code",
   "execution_count": 42,
   "metadata": {},
   "outputs": [
    {
     "data": {
      "text/plain": [
       "<seaborn.axisgrid.JointGrid at 0x24307f2ae50>"
      ]
     },
     "execution_count": 42,
     "metadata": {},
     "output_type": "execute_result"
    },
    {
     "data": {
      "image/png": "[encoded data removed]",
      "text/plain": [
       "<Figure size 432x432 with 3 Axes>"
      ]
     },
     "metadata": {
      "needs_background": "light"
     },
     "output_type": "display_data"
    }
   ],
   "source": [
    "sns.jointplot(x='bilirubin', y='albumin', data=df1,ratio=3)"
   ]
  },
  {
   "cell_type": "markdown",
   "metadata": {},
   "source": [
    "This jointplot shows relationship between alkaline phosphate and protime because both variables aare related to the blood particles."
   ]
  },
  {
   "cell_type": "code",
   "execution_count": 49,
   "metadata": {},
   "outputs": [
    {
     "data": {
      "text/plain": [
       "<seaborn.axisgrid.JointGrid at 0x24307f07430>"
      ]
     },
     "execution_count": 49,
     "metadata": {},
     "output_type": "execute_result"
    },
    {
     "data": {
      "image/png": "[encoded data removed]",
      "text/plain": [
       "<Figure size 432x432 with 3 Axes>"
      ]
     },
     "metadata": {
      "needs_background": "light"
     },
     "output_type": "display_data"
    }
   ],
   "source": [
    "sns.jointplot(x='alk_phosphate', y='protime', data= df1)"
   ]
  },
  {
   "cell_type": "markdown",
   "metadata": {},
   "source": [
    "# CHECKING FOR OUTLIERS:"
   ]
  },
  {
   "cell_type": "code",
   "execution_count": 114,
   "metadata": {},
   "outputs": [
    {
     "data": {
      "image/png": "[encoded data removed]",
      "text/plain": [
       "<Figure size 1584x720 with 6 Axes>"
      ]
     },
     "metadata": {
      "needs_background": "light"
     },
     "output_type": "display_data"
    }
   ],
   "source": [
    "fig,ax = plt.subplots(2,3,figsize=[22,10])\n",
    "sns.boxplot(data = df1, x=df1['class'], y= 'age', ax=ax[0,0])\n",
    "sns.boxplot(data = df1, x=df1['class'], y= 'bilirubin', ax=ax[0,1])\n",
    "sns.boxplot(data = df1, x=df1['class'], y= 'alk_phosphate', ax=ax[0,2])\n",
    "sns.boxplot(data = df1, x=df1['class'], y= 'sgot', ax=ax[1,0])\n",
    "sns.boxplot(data = df1, x=df1['class'], y= 'albumin', ax=ax[1,1])\n",
    "sns.boxplot(data = df1, x=df1['class'], y= 'protime', ax=ax[1,2])\n",
    "plt.tight_layout();"
   ]
  },
  {
   "cell_type": "markdown",
   "metadata": {},
   "source": [
    "This data contains outliers for several numerical variables."
   ]
  },
  {
   "cell_type": "markdown",
   "metadata": {},
   "source": [
    "# CHECKING FOR CORRELATION:"
   ]
  },
  {
   "cell_type": "code",
   "execution_count": 131,
   "metadata": {},
   "outputs": [
    {
     "data": {
      "text/html": [
       "<div>\n",
       "<style scoped>\n",
       "    .dataframe tbody tr th:only-of-type {\n",
       "        vertical-align: middle;\n",
       "    }\n",
       "\n",
       "    .dataframe tbody tr th {\n",
       "        vertical-align: top;\n",
       "    }\n",
       "\n",
       "    .dataframe thead th {\n",
       "        text-align: right;\n",
       "    }\n",
       "</style>\n",
       "<table border=\"1\" class=\"dataframe\">\n",
       "  <thead>\n",
       "    <tr style=\"text-align: right;\">\n",
       "      <th></th>\n",
       "      <th>age</th>\n",
       "      <th>steroid</th>\n",
       "      <th>antivirals</th>\n",
       "      <th>fatigue</th>\n",
       "      <th>malaise</th>\n",
       "      <th>anorexia</th>\n",
       "      <th>liver_big</th>\n",
       "      <th>liver_firm</th>\n",
       "      <th>spleen_palpable</th>\n",
       "      <th>spiders</th>\n",
       "      <th>ascites</th>\n",
       "      <th>varices</th>\n",
       "      <th>bilirubin</th>\n",
       "      <th>alk_phosphate</th>\n",
       "      <th>sgot</th>\n",
       "      <th>albumin</th>\n",
       "      <th>protime</th>\n",
       "      <th>histology</th>\n",
       "    </tr>\n",
       "  </thead>\n",
       "  <tbody>\n",
       "    <tr>\n",
       "      <th>age</th>\n",
       "      <td>1.000000</td>\n",
       "      <td>-0.101275</td>\n",
       "      <td>0.022332</td>\n",
       "      <td>0.267442</td>\n",
       "      <td>0.118266</td>\n",
       "      <td>-0.080194</td>\n",
       "      <td>-0.093744</td>\n",
       "      <td>0.115819</td>\n",
       "      <td>0.107537</td>\n",
       "      <td>0.201809</td>\n",
       "      <td>0.100323</td>\n",
       "      <td>0.117193</td>\n",
       "      <td>0.176607</td>\n",
       "      <td>0.150305</td>\n",
       "      <td>0.077947</td>\n",
       "      <td>-0.176839</td>\n",
       "      <td>-0.157957</td>\n",
       "      <td>0.206834</td>\n",
       "    </tr>\n",
       "    <tr>\n",
       "      <th>steroid</th>\n",
       "      <td>-0.101275</td>\n",
       "      <td>1.000000</td>\n",
       "      <td>-0.074101</td>\n",
       "      <td>-0.143542</td>\n",
       "      <td>-0.229704</td>\n",
       "      <td>-0.067050</td>\n",
       "      <td>0.195786</td>\n",
       "      <td>-0.096575</td>\n",
       "      <td>-0.068482</td>\n",
       "      <td>-0.031913</td>\n",
       "      <td>0.016297</td>\n",
       "      <td>0.071325</td>\n",
       "      <td>0.018859</td>\n",
       "      <td>-0.000434</td>\n",
       "      <td>-0.064756</td>\n",
       "      <td>0.201662</td>\n",
       "      <td>0.031953</td>\n",
       "      <td>-0.083641</td>\n",
       "    </tr>\n",
       "    <tr>\n",
       "      <th>antivirals</th>\n",
       "      <td>0.022332</td>\n",
       "      <td>-0.074101</td>\n",
       "      <td>1.000000</td>\n",
       "      <td>-0.055310</td>\n",
       "      <td>-0.016251</td>\n",
       "      <td>-0.042072</td>\n",
       "      <td>-0.054746</td>\n",
       "      <td>0.036026</td>\n",
       "      <td>-0.164548</td>\n",
       "      <td>-0.153038</td>\n",
       "      <td>-0.169444</td>\n",
       "      <td>-0.174083</td>\n",
       "      <td>-0.222161</td>\n",
       "      <td>-0.252845</td>\n",
       "      <td>-0.098671</td>\n",
       "      <td>0.099044</td>\n",
       "      <td>0.155273</td>\n",
       "      <td>-0.209242</td>\n",
       "    </tr>\n",
       "    <tr>\n",
       "      <th>fatigue</th>\n",
       "      <td>0.267442</td>\n",
       "      <td>-0.143542</td>\n",
       "      <td>-0.055310</td>\n",
       "      <td>1.000000</td>\n",
       "      <td>0.597424</td>\n",
       "      <td>0.378272</td>\n",
       "      <td>-0.105254</td>\n",
       "      <td>0.248808</td>\n",
       "      <td>0.192669</td>\n",
       "      <td>0.384153</td>\n",
       "      <td>0.293588</td>\n",
       "      <td>0.185711</td>\n",
       "      <td>0.341242</td>\n",
       "      <td>0.119744</td>\n",
       "      <td>0.239178</td>\n",
       "      <td>-0.248404</td>\n",
       "      <td>-0.105763</td>\n",
       "      <td>0.158201</td>\n",
       "    </tr>\n",
       "    <tr>\n",
       "      <th>malaise</th>\n",
       "      <td>0.118266</td>\n",
       "      <td>-0.229704</td>\n",
       "      <td>-0.016251</td>\n",
       "      <td>0.597424</td>\n",
       "      <td>1.000000</td>\n",
       "      <td>0.600545</td>\n",
       "      <td>-0.041697</td>\n",
       "      <td>0.134066</td>\n",
       "      <td>0.006470</td>\n",
       "      <td>0.322640</td>\n",
       "      <td>0.337076</td>\n",
       "      <td>0.202146</td>\n",
       "      <td>0.277491</td>\n",
       "      <td>0.172585</td>\n",
       "      <td>0.227604</td>\n",
       "      <td>-0.274100</td>\n",
       "      <td>-0.099439</td>\n",
       "      <td>0.144667</td>\n",
       "    </tr>\n",
       "    <tr>\n",
       "      <th>anorexia</th>\n",
       "      <td>-0.080194</td>\n",
       "      <td>-0.067050</td>\n",
       "      <td>-0.042072</td>\n",
       "      <td>0.378272</td>\n",
       "      <td>0.600545</td>\n",
       "      <td>1.000000</td>\n",
       "      <td>-0.079685</td>\n",
       "      <td>0.074922</td>\n",
       "      <td>0.032536</td>\n",
       "      <td>0.312757</td>\n",
       "      <td>0.217244</td>\n",
       "      <td>0.203617</td>\n",
       "      <td>0.210382</td>\n",
       "      <td>0.073898</td>\n",
       "      <td>0.177620</td>\n",
       "      <td>-0.125359</td>\n",
       "      <td>-0.018932</td>\n",
       "      <td>0.081623</td>\n",
       "    </tr>\n",
       "    <tr>\n",
       "      <th>liver_big</th>\n",
       "      <td>-0.093744</td>\n",
       "      <td>0.195786</td>\n",
       "      <td>-0.054746</td>\n",
       "      <td>-0.105254</td>\n",
       "      <td>-0.041697</td>\n",
       "      <td>-0.079685</td>\n",
       "      <td>1.000000</td>\n",
       "      <td>-0.406577</td>\n",
       "      <td>-0.095959</td>\n",
       "      <td>-0.208525</td>\n",
       "      <td>0.122348</td>\n",
       "      <td>0.077827</td>\n",
       "      <td>-0.048119</td>\n",
       "      <td>-0.102736</td>\n",
       "      <td>0.068816</td>\n",
       "      <td>-0.061598</td>\n",
       "      <td>-0.177485</td>\n",
       "      <td>-0.060262</td>\n",
       "    </tr>\n",
       "    <tr>\n",
       "      <th>liver_firm</th>\n",
       "      <td>0.115819</td>\n",
       "      <td>-0.096575</td>\n",
       "      <td>0.036026</td>\n",
       "      <td>0.248808</td>\n",
       "      <td>0.134066</td>\n",
       "      <td>0.074922</td>\n",
       "      <td>-0.406577</td>\n",
       "      <td>1.000000</td>\n",
       "      <td>0.172335</td>\n",
       "      <td>0.334051</td>\n",
       "      <td>0.090073</td>\n",
       "      <td>0.182650</td>\n",
       "      <td>0.154897</td>\n",
       "      <td>0.273921</td>\n",
       "      <td>0.121573</td>\n",
       "      <td>-0.185228</td>\n",
       "      <td>0.057747</td>\n",
       "      <td>0.206480</td>\n",
       "    </tr>\n",
       "    <tr>\n",
       "      <th>spleen_palpable</th>\n",
       "      <td>0.107537</td>\n",
       "      <td>-0.068482</td>\n",
       "      <td>-0.164548</td>\n",
       "      <td>0.192669</td>\n",
       "      <td>0.006470</td>\n",
       "      <td>0.032536</td>\n",
       "      <td>-0.095959</td>\n",
       "      <td>0.172335</td>\n",
       "      <td>1.000000</td>\n",
       "      <td>0.274454</td>\n",
       "      <td>0.092351</td>\n",
       "      <td>0.175096</td>\n",
       "      <td>0.194607</td>\n",
       "      <td>0.297166</td>\n",
       "      <td>0.070453</td>\n",
       "      <td>-0.172951</td>\n",
       "      <td>-0.104298</td>\n",
       "      <td>0.211702</td>\n",
       "    </tr>\n",
       "    <tr>\n",
       "      <th>spiders</th>\n",
       "      <td>0.201809</td>\n",
       "      <td>-0.031913</td>\n",
       "      <td>-0.153038</td>\n",
       "      <td>0.384153</td>\n",
       "      <td>0.322640</td>\n",
       "      <td>0.312757</td>\n",
       "      <td>-0.208525</td>\n",
       "      <td>0.334051</td>\n",
       "      <td>0.274454</td>\n",
       "      <td>1.000000</td>\n",
       "      <td>0.317600</td>\n",
       "      <td>0.337481</td>\n",
       "      <td>0.251169</td>\n",
       "      <td>0.244828</td>\n",
       "      <td>0.204344</td>\n",
       "      <td>-0.307216</td>\n",
       "      <td>-0.084668</td>\n",
       "      <td>0.371112</td>\n",
       "    </tr>\n",
       "    <tr>\n",
       "      <th>ascites</th>\n",
       "      <td>0.100323</td>\n",
       "      <td>0.016297</td>\n",
       "      <td>-0.169444</td>\n",
       "      <td>0.293588</td>\n",
       "      <td>0.337076</td>\n",
       "      <td>0.217244</td>\n",
       "      <td>0.122348</td>\n",
       "      <td>0.090073</td>\n",
       "      <td>0.092351</td>\n",
       "      <td>0.317600</td>\n",
       "      <td>1.000000</td>\n",
       "      <td>0.325149</td>\n",
       "      <td>0.300103</td>\n",
       "      <td>0.177118</td>\n",
       "      <td>0.035819</td>\n",
       "      <td>-0.477349</td>\n",
       "      <td>-0.106248</td>\n",
       "      <td>0.360472</td>\n",
       "    </tr>\n",
       "    <tr>\n",
       "      <th>varices</th>\n",
       "      <td>0.117193</td>\n",
       "      <td>0.071325</td>\n",
       "      <td>-0.174083</td>\n",
       "      <td>0.185711</td>\n",
       "      <td>0.202146</td>\n",
       "      <td>0.203617</td>\n",
       "      <td>0.077827</td>\n",
       "      <td>0.182650</td>\n",
       "      <td>0.175096</td>\n",
       "      <td>0.337481</td>\n",
       "      <td>0.325149</td>\n",
       "      <td>1.000000</td>\n",
       "      <td>0.403420</td>\n",
       "      <td>0.244498</td>\n",
       "      <td>0.042772</td>\n",
       "      <td>-0.268388</td>\n",
       "      <td>-0.122009</td>\n",
       "      <td>0.299581</td>\n",
       "    </tr>\n",
       "    <tr>\n",
       "      <th>bilirubin</th>\n",
       "      <td>0.176607</td>\n",
       "      <td>0.018859</td>\n",
       "      <td>-0.222161</td>\n",
       "      <td>0.341242</td>\n",
       "      <td>0.277491</td>\n",
       "      <td>0.210382</td>\n",
       "      <td>-0.048119</td>\n",
       "      <td>0.154897</td>\n",
       "      <td>0.194607</td>\n",
       "      <td>0.251169</td>\n",
       "      <td>0.300103</td>\n",
       "      <td>0.403420</td>\n",
       "      <td>1.000000</td>\n",
       "      <td>0.316441</td>\n",
       "      <td>0.274367</td>\n",
       "      <td>-0.407323</td>\n",
       "      <td>-0.199125</td>\n",
       "      <td>0.249234</td>\n",
       "    </tr>\n",
       "    <tr>\n",
       "      <th>alk_phosphate</th>\n",
       "      <td>0.150305</td>\n",
       "      <td>-0.000434</td>\n",
       "      <td>-0.252845</td>\n",
       "      <td>0.119744</td>\n",
       "      <td>0.172585</td>\n",
       "      <td>0.073898</td>\n",
       "      <td>-0.102736</td>\n",
       "      <td>0.273921</td>\n",
       "      <td>0.297166</td>\n",
       "      <td>0.244828</td>\n",
       "      <td>0.177118</td>\n",
       "      <td>0.244498</td>\n",
       "      <td>0.316441</td>\n",
       "      <td>1.000000</td>\n",
       "      <td>0.207406</td>\n",
       "      <td>-0.421982</td>\n",
       "      <td>-0.149707</td>\n",
       "      <td>0.277146</td>\n",
       "    </tr>\n",
       "    <tr>\n",
       "      <th>sgot</th>\n",
       "      <td>0.077947</td>\n",
       "      <td>-0.064756</td>\n",
       "      <td>-0.098671</td>\n",
       "      <td>0.239178</td>\n",
       "      <td>0.227604</td>\n",
       "      <td>0.177620</td>\n",
       "      <td>0.068816</td>\n",
       "      <td>0.121573</td>\n",
       "      <td>0.070453</td>\n",
       "      <td>0.204344</td>\n",
       "      <td>0.035819</td>\n",
       "      <td>0.042772</td>\n",
       "      <td>0.274367</td>\n",
       "      <td>0.207406</td>\n",
       "      <td>1.000000</td>\n",
       "      <td>-0.143240</td>\n",
       "      <td>-0.311020</td>\n",
       "      <td>0.102589</td>\n",
       "    </tr>\n",
       "    <tr>\n",
       "      <th>albumin</th>\n",
       "      <td>-0.176839</td>\n",
       "      <td>0.201662</td>\n",
       "      <td>0.099044</td>\n",
       "      <td>-0.248404</td>\n",
       "      <td>-0.274100</td>\n",
       "      <td>-0.125359</td>\n",
       "      <td>-0.061598</td>\n",
       "      <td>-0.185228</td>\n",
       "      <td>-0.172951</td>\n",
       "      <td>-0.307216</td>\n",
       "      <td>-0.477349</td>\n",
       "      <td>-0.268388</td>\n",
       "      <td>-0.407323</td>\n",
       "      <td>-0.421982</td>\n",
       "      <td>-0.143240</td>\n",
       "      <td>1.000000</td>\n",
       "      <td>0.170820</td>\n",
       "      <td>-0.269952</td>\n",
       "    </tr>\n",
       "    <tr>\n",
       "      <th>protime</th>\n",
       "      <td>-0.157957</td>\n",
       "      <td>0.031953</td>\n",
       "      <td>0.155273</td>\n",
       "      <td>-0.105763</td>\n",
       "      <td>-0.099439</td>\n",
       "      <td>-0.018932</td>\n",
       "      <td>-0.177485</td>\n",
       "      <td>0.057747</td>\n",
       "      <td>-0.104298</td>\n",
       "      <td>-0.084668</td>\n",
       "      <td>-0.106248</td>\n",
       "      <td>-0.122009</td>\n",
       "      <td>-0.199125</td>\n",
       "      <td>-0.149707</td>\n",
       "      <td>-0.311020</td>\n",
       "      <td>0.170820</td>\n",
       "      <td>1.000000</td>\n",
       "      <td>-0.130737</td>\n",
       "    </tr>\n",
       "    <tr>\n",
       "      <th>histology</th>\n",
       "      <td>0.206834</td>\n",
       "      <td>-0.083641</td>\n",
       "      <td>-0.209242</td>\n",
       "      <td>0.158201</td>\n",
       "      <td>0.144667</td>\n",
       "      <td>0.081623</td>\n",
       "      <td>-0.060262</td>\n",
       "      <td>0.206480</td>\n",
       "      <td>0.211702</td>\n",
       "      <td>0.371112</td>\n",
       "      <td>0.360472</td>\n",
       "      <td>0.299581</td>\n",
       "      <td>0.249234</td>\n",
       "      <td>0.277146</td>\n",
       "      <td>0.102589</td>\n",
       "      <td>-0.269952</td>\n",
       "      <td>-0.130737</td>\n",
       "      <td>1.000000</td>\n",
       "    </tr>\n",
       "  </tbody>\n",
       "</table>\n",
       "</div>"
      ],
      "text/plain": [
       "                      age   steroid  antivirals   fatigue   malaise  anorexia  \\\n",
       "age              1.000000 -0.101275    0.022332  0.267442  0.118266 -0.080194   \n",
       "steroid         -0.101275  1.000000   -0.074101 -0.143542 -0.229704 -0.067050   \n",
       "antivirals       0.022332 -0.074101    1.000000 -0.055310 -0.016251 -0.042072   \n",
       "fatigue          0.267442 -0.143542   -0.055310  1.000000  0.597424  0.378272   \n",
       "malaise          0.118266 -0.229704   -0.016251  0.597424  1.000000  0.600545   \n",
       "anorexia        -0.080194 -0.067050   -0.042072  0.378272  0.600545  1.000000   \n",
       "liver_big       -0.093744  0.195786   -0.054746 -0.105254 -0.041697 -0.079685   \n",
       "liver_firm       0.115819 -0.096575    0.036026  0.248808  0.134066  0.074922   \n",
       "spleen_palpable  0.107537 -0.068482   -0.164548  0.192669  0.006470  0.032536   \n",
       "spiders          0.201809 -0.031913   -0.153038  0.384153  0.322640  0.312757   \n",
       "ascites          0.100323  0.016297   -0.169444  0.293588  0.337076  0.217244   \n",
       "varices          0.117193  0.071325   -0.174083  0.185711  0.202146  0.203617   \n",
       "bilirubin        0.176607  0.018859   -0.222161  0.341242  0.277491  0.210382   \n",
       "alk_phosphate    0.150305 -0.000434   -0.252845  0.119744  0.172585  0.073898   \n",
       "sgot             0.077947 -0.064756   -0.098671  0.239178  0.227604  0.177620   \n",
       "albumin         -0.176839  0.201662    0.099044 -0.248404 -0.274100 -0.125359   \n",
       "protime         -0.157957  0.031953    0.155273 -0.105763 -0.099439 -0.018932   \n",
       "histology        0.206834 -0.083641   -0.209242  0.158201  0.144667  0.081623   \n",
       "\n",
       "                 liver_big  liver_firm  spleen_palpable   spiders   ascites  \\\n",
       "age              -0.093744    0.115819         0.107537  0.201809  0.100323   \n",
       "steroid           0.195786   -0.096575        -0.068482 -0.031913  0.016297   \n",
       "antivirals       -0.054746    0.036026        -0.164548 -0.153038 -0.169444   \n",
       "fatigue          -0.105254    0.248808         0.192669  0.384153  0.293588   \n",
       "malaise          -0.041697    0.134066         0.006470  0.322640  0.337076   \n",
       "anorexia         -0.079685    0.074922         0.032536  0.312757  0.217244   \n",
       "liver_big         1.000000   -0.406577        -0.095959 -0.208525  0.122348   \n",
       "liver_firm       -0.406577    1.000000         0.172335  0.334051  0.090073   \n",
       "spleen_palpable  -0.095959    0.172335         1.000000  0.274454  0.092351   \n",
       "spiders          -0.208525    0.334051         0.274454  1.000000  0.317600   \n",
       "ascites           0.122348    0.090073         0.092351  0.317600  1.000000   \n",
       "varices           0.077827    0.182650         0.175096  0.337481  0.325149   \n",
       "bilirubin        -0.048119    0.154897         0.194607  0.251169  0.300103   \n",
       "alk_phosphate    -0.102736    0.273921         0.297166  0.244828  0.177118   \n",
       "sgot              0.068816    0.121573         0.070453  0.204344  0.035819   \n",
       "albumin          -0.061598   -0.185228        -0.172951 -0.307216 -0.477349   \n",
       "protime          -0.177485    0.057747        -0.104298 -0.084668 -0.106248   \n",
       "histology        -0.060262    0.206480         0.211702  0.371112  0.360472   \n",
       "\n",
       "                  varices  bilirubin  alk_phosphate      sgot   albumin  \\\n",
       "age              0.117193   0.176607       0.150305  0.077947 -0.176839   \n",
       "steroid          0.071325   0.018859      -0.000434 -0.064756  0.201662   \n",
       "antivirals      -0.174083  -0.222161      -0.252845 -0.098671  0.099044   \n",
       "fatigue          0.185711   0.341242       0.119744  0.239178 -0.248404   \n",
       "malaise          0.202146   0.277491       0.172585  0.227604 -0.274100   \n",
       "anorexia         0.203617   0.210382       0.073898  0.177620 -0.125359   \n",
       "liver_big        0.077827  -0.048119      -0.102736  0.068816 -0.061598   \n",
       "liver_firm       0.182650   0.154897       0.273921  0.121573 -0.185228   \n",
       "spleen_palpable  0.175096   0.194607       0.297166  0.070453 -0.172951   \n",
       "spiders          0.337481   0.251169       0.244828  0.204344 -0.307216   \n",
       "ascites          0.325149   0.300103       0.177118  0.035819 -0.477349   \n",
       "varices          1.000000   0.403420       0.244498  0.042772 -0.268388   \n",
       "bilirubin        0.403420   1.000000       0.316441  0.274367 -0.407323   \n",
       "alk_phosphate    0.244498   0.316441       1.000000  0.207406 -0.421982   \n",
       "sgot             0.042772   0.274367       0.207406  1.000000 -0.143240   \n",
       "albumin         -0.268388  -0.407323      -0.421982 -0.143240  1.000000   \n",
       "protime         -0.122009  -0.199125      -0.149707 -0.311020  0.170820   \n",
       "histology        0.299581   0.249234       0.277146  0.102589 -0.269952   \n",
       "\n",
       "                  protime  histology  \n",
       "age             -0.157957   0.206834  \n",
       "steroid          0.031953  -0.083641  \n",
       "antivirals       0.155273  -0.209242  \n",
       "fatigue         -0.105763   0.158201  \n",
       "malaise         -0.099439   0.144667  \n",
       "anorexia        -0.018932   0.081623  \n",
       "liver_big       -0.177485  -0.060262  \n",
       "liver_firm       0.057747   0.206480  \n",
       "spleen_palpable -0.104298   0.211702  \n",
       "spiders         -0.084668   0.371112  \n",
       "ascites         -0.106248   0.360472  \n",
       "varices         -0.122009   0.299581  \n",
       "bilirubin       -0.199125   0.249234  \n",
       "alk_phosphate   -0.149707   0.277146  \n",
       "sgot            -0.311020   0.102589  \n",
       "albumin          0.170820  -0.269952  \n",
       "protime          1.000000  -0.130737  \n",
       "histology       -0.130737   1.000000  "
      ]
     },
     "execution_count": 131,
     "metadata": {},
     "output_type": "execute_result"
    }
   ],
   "source": [
    "df1.corr(\"spearman\")"
   ]
  },
  {
   "cell_type": "markdown",
   "metadata": {},
   "source": [
    "Using spearman correlation coefficient the correlation between the total variables are checked and using pearson r coeffecient and checked weather the columns are significant or insignificant. "
   ]
  },
  {
   "cell_type": "code",
   "execution_count": 135,
   "metadata": {},
   "outputs": [
    {
     "name": "stdout",
     "output_type": "stream",
     "text": [
      "age\n",
      "bilirubin corr-----> 0.10493729802404562 prob----> 0.1937811605970011 \n",
      "Results insignificant\n",
      "alk_phosphate corr-----> 0.027405253648144126 prob----> 0.7349906224410793 \n",
      "Results insignificant\n",
      "sgot corr-----> 0.10375698654825745 prob----> 0.1988697508147065 \n",
      "Results insignificant\n",
      "albumin corr-----> -0.1008047977645795 prob----> 0.21201917122454256 \n",
      "Results insignificant\n",
      "protime corr-----> -0.18030621320579693 prob----> 0.024764505759918308 \n",
      "Results significant\n",
      "\n",
      "\n",
      "bilirubin\n",
      "age corr-----> 0.10493729802404562 prob----> 0.1937811605970011 \n",
      "Results insignificant\n",
      "alk_phosphate corr-----> 0.14071928029302094 prob----> 0.08073094300518502 \n",
      "Results insignificant\n",
      "sgot corr-----> 0.2253998748157497 prob----> 0.004804279815981351 \n",
      "Results significant\n",
      "albumin corr-----> -0.32359946995214706 prob----> 4.0042255846467846e-05 \n",
      "Results significant\n",
      "protime corr-----> -0.20857572333431135 prob----> 0.009202546380670092 \n",
      "Results significant\n",
      "\n",
      "\n",
      "alk_phosphate\n",
      "age corr-----> 0.027405253648144126 prob----> 0.7349906224410793 \n",
      "Results insignificant\n",
      "bilirubin corr-----> 0.14071928029302094 prob----> 0.08073094300518502 \n",
      "Results insignificant\n",
      "sgot corr-----> 0.16632735306206636 prob----> 0.03859984064472452 \n",
      "Results significant\n",
      "albumin corr-----> -0.30140574954760646 prob----> 0.00013834275229334653 \n",
      "Results significant\n",
      "protime corr-----> -0.12393757106156741 prob----> 0.12442798509665283 \n",
      "Results insignificant\n",
      "\n",
      "\n",
      "sgot\n",
      "age corr-----> 0.10375698654825745 prob----> 0.1988697508147065 \n",
      "Results insignificant\n",
      "bilirubin corr-----> 0.2253998748157497 prob----> 0.004804279815981351 \n",
      "Results significant\n",
      "alk_phosphate corr-----> 0.16632735306206636 prob----> 0.03859984064472452 \n",
      "Results significant\n",
      "albumin corr-----> -0.06503533741742445 prob----> 0.4214079624530679 \n",
      "Results insignificant\n",
      "protime corr-----> -0.1978000214072872 prob----> 0.013621904270286119 \n",
      "Results significant\n",
      "\n",
      "\n",
      "albumin\n",
      "age corr-----> -0.1008047977645795 prob----> 0.21201917122454256 \n",
      "Results insignificant\n",
      "bilirubin corr-----> -0.32359946995214706 prob----> 4.0042255846467846e-05 \n",
      "Results significant\n",
      "alk_phosphate corr-----> -0.30140574954760646 prob----> 0.00013834275229334653 \n",
      "Results significant\n",
      "sgot corr-----> -0.06503533741742445 prob----> 0.4214079624530679 \n",
      "Results insignificant\n",
      "protime corr-----> 0.07619976488272107 prob----> 0.34600261182781294 \n",
      "Results insignificant\n",
      "\n",
      "\n",
      "protime\n",
      "age corr-----> -0.18030621320579693 prob----> 0.024764505759918308 \n",
      "Results significant\n",
      "bilirubin corr-----> -0.20857572333431135 prob----> 0.009202546380670092 \n",
      "Results significant\n",
      "alk_phosphate corr-----> -0.12393757106156741 prob----> 0.12442798509665283 \n",
      "Results insignificant\n",
      "sgot corr-----> -0.1978000214072872 prob----> 0.013621904270286119 \n",
      "Results significant\n",
      "albumin corr-----> 0.07619976488272107 prob----> 0.34600261182781294 \n",
      "Results insignificant\n",
      "\n",
      "\n"
     ]
    }
   ],
   "source": [
    "from scipy.stats import pearsonr\n",
    "for i in numerical_data.columns:\n",
    "    print(i)\n",
    "    \n",
    "    for j in numerical_data.columns:\n",
    "        if i != j:\n",
    "            \n",
    "            p = pearsonr(numerical_data[i],numerical_data[j])\n",
    "            if p[1]>= 0.05:\n",
    "                print(j,\"corr----->\",p[0],\"prob---->\",p[1],'\\nResults insignificant')\n",
    "            else:\n",
    "                print(j,\"corr----->\",p[0],\"prob---->\",p[1],'\\nResults significant')\n",
    "    print(\"\\n\")"
   ]
  },
  {
   "cell_type": "code",
   "execution_count": 133,
   "metadata": {},
   "outputs": [
    {
     "data": {
      "image/png": "[encoded data removed]",
      "text/plain": [
       "<Figure size 1440x1080 with 2 Axes>"
      ]
     },
     "metadata": {
      "needs_background": "light"
     },
     "output_type": "display_data"
    }
   ],
   "source": [
    "fig = plt.figure(figsize=[20,15])\n",
    "sns.heatmap(data = df1.loc[:,['steroid','antivirals','fatigue','malaise','anorexia','liver_big',\n",
    "                             'liver_firm','spleen_palpable',\n",
    "         'spiders','ascites','varices','histology','class']].corr(method='spearman'),annot=True);"
   ]
  },
  {
   "cell_type": "markdown",
   "metadata": {},
   "source": [
    "The significance is tested using spearmans correlation"
   ]
  },
  {
   "cell_type": "markdown",
   "metadata": {},
   "source": [
    "# CONCLUTION: "
   ]
  },
  {
   "cell_type": "markdown",
   "metadata": {},
   "source": [
    "The Exploratory data analysis is performed for the given hepatitis dataset. The dataset is viewed and and concluded that it contains both numerical and categorical variables.\n",
    "\n",
    " - Both male and female took steroids and it is helpfull to cure disease.\n",
    " - The protime secretion between 20-60 are mostly died."
   ]
  },
  {
   "cell_type": "code",
   "execution_count": null,
   "metadata": {},
   "outputs": [],
   "source": []
  }
 ],
 "metadata": {
  "kernelspec": {
   "display_name": "Python 3",
   "language": "python",
   "name": "python3"
  },
  "language_info": {
   "codemirror_mode": {
    "name": "ipython",
    "version": 3
   },
   "file_extension": ".py",
   "mimetype": "text/x-python",
   "name": "python",
   "nbconvert_exporter": "python",
   "pygments_lexer": "ipython3",
   "version": "3.8.5"
  }
 },
 "nbformat": 4,
 "nbformat_minor": 4
}
